{
 "cells": [
  {
   "cell_type": "code",
   "execution_count": 1,
   "metadata": {},
   "outputs": [],
   "source": [
    "import requests\n",
    "import pandas as pd\n",
    "import numpy as np\n",
    "import statsmodels.formula.api as smf"
   ]
  },
  {
   "cell_type": "code",
   "execution_count": 6,
   "metadata": {},
   "outputs": [],
   "source": [
    "codelist = [\"ABAQ\"]\n",
    "benchmark = \"ABQX\"\n",
    "start_date = \"2016-03-13\"\n",
    "end_date = \"2020-03-13\""
   ]
  },
  {
   "cell_type": "code",
   "execution_count": 8,
   "metadata": {},
   "outputs": [],
   "source": [
    "# Load any files needed\n",
    "with open('data/key.txt', 'r') as file:\n",
    "    api_key = file.read()"
   ]
  },
  {
   "cell_type": "code",
   "execution_count": 23,
   "metadata": {},
   "outputs": [],
   "source": [
    "# Pull data from quandl\n",
    "indexdata = pd.DataFrame()\n",
    "\n",
    "quandl_code = codelist\n",
    "if benchmark != 'None':\n",
    "    quandl_code = codelist + [benchmark]\n",
    "\n",
    "for x in range(0,len(quandl_code)):\n",
    "    quandl_request = (\n",
    "    'https://www.quandl.com/api/v3/datasets/NASDAQOMX/'\n",
    "    f'{quandl_code[x]}?start_date={start_date}&end_date={end_date}&api_key={api_key}'\n",
    "    )\n",
    "    \n",
    "    response = requests.get(quandl_request).json()\n",
    "    \n",
    "    response_df = pd.DataFrame(response['dataset']['data'])\n",
    "    response_df = response_df[[0,1]]\n",
    "    if x == len(quandl_code)-1:\n",
    "        response_df.columns = ['date','benchmark']\n",
    "    else:\n",
    "        response_df.columns = ['date',quandl_code[x]]\n",
    "    \n",
    "    if x == 0:\n",
    "        indexdata = indexdata.append(response_df)\n",
    "    else:\n",
    "        indexdata = pd.merge(indexdata,response_df)"
   ]
  },
  {
   "cell_type": "code",
   "execution_count": 33,
   "metadata": {},
   "outputs": [],
   "source": [
    "indexdata = indexdata.sort_values('date').reset_index(drop = True)\n",
    "indexdata['ABAQreturn'] = (indexdata.ABAQ - indexdata.ABAQ.shift(1))/indexdata.ABAQ.shift(1)\n",
    "indexdata['benchmarkreturn'] = (indexdata.benchmark - indexdata.benchmark.shift(1))/indexdata.benchmark.shift(1)"
   ]
  },
  {
   "cell_type": "code",
   "execution_count": 30,
   "metadata": {},
   "outputs": [
    {
     "data": {
      "text/plain": [
       "0.9522401831028744"
      ]
     },
     "execution_count": 30,
     "metadata": {},
     "output_type": "execute_result"
    }
   ],
   "source": [
    "# For one set of returns, we can just compute the covariance between our benchmark and portfolio, \n",
    "# which should always be true as I will be compressing portfolio into one set of returns\n",
    "covariance_matrix = indexdata[[\"ABAQreturn\",\"benchmarkreturn\"]].cov()\n",
    "covariance_coefficient = covariance_matrix.iloc[0,1]\n",
    "benchmark_variance = indexdata[\"benchmarkreturn\"].var()\n",
    "portfolio_beta = covariance_coefficient / benchmark_variance"
   ]
  },
  {
   "cell_type": "code",
   "execution_count": 91,
   "metadata": {},
   "outputs": [],
   "source": [
    "model = smf.ols(formula='ABAQreturn ~ benchmarkreturn', data=indexdata)\n",
    "results = model.fit()"
   ]
  },
  {
   "cell_type": "code",
   "execution_count": 177,
   "metadata": {},
   "outputs": [],
   "source": [
    "overview = pd.DataFrame(results.summary().tables[0])"
   ]
  },
  {
   "cell_type": "code",
   "execution_count": 178,
   "metadata": {},
   "outputs": [],
   "source": [
    "temporary_overview = overview[[2,3]]\n",
    "temporary_overview.columns = [0,1]"
   ]
  },
  {
   "cell_type": "code",
   "execution_count": 179,
   "metadata": {},
   "outputs": [],
   "source": [
    "overview = pd.concat([overview[[0,1]],temporary_overview],ignore_index=True)\n",
    "overview = overview.transpose()\n",
    "overview = overview.drop([16,17], axis = 1)\n",
    "overview.columns = overview.iloc[0]\n",
    "overview = overview.drop([0], axis = 0)"
   ]
  },
  {
   "cell_type": "code",
   "execution_count": 113,
   "metadata": {},
   "outputs": [],
   "source": [
    "parameters = pd.DataFrame(results.summary().tables[1])"
   ]
  },
  {
   "cell_type": "code",
   "execution_count": 186,
   "metadata": {},
   "outputs": [],
   "source": [
    "parameters.columns = parameters.iloc[0]\n",
    "parameters = parameters.drop(0,axis = 0)"
   ]
  },
  {
   "cell_type": "code",
   "execution_count": 115,
   "metadata": {},
   "outputs": [],
   "source": [
    "metrics = pd.DataFrame(results.summary().tables[2])"
   ]
  },
  {
   "cell_type": "code",
   "execution_count": 196,
   "metadata": {},
   "outputs": [],
   "source": [
    "temporary_metrics = metrics[[2,3]]\n",
    "temporary_metrics.columns = [0,1]"
   ]
  },
  {
   "cell_type": "code",
   "execution_count": 197,
   "metadata": {},
   "outputs": [],
   "source": [
    "metrics = pd.concat([metrics[[0,1]],temporary_metrics],ignore_index=True)\n",
    "metrics = metrics.transpose()"
   ]
  },
  {
   "cell_type": "code",
   "execution_count": 199,
   "metadata": {},
   "outputs": [],
   "source": [
    "metrics.columns = metrics.iloc[0]\n",
    "metrics = metrics.drop([0], axis = 0)"
   ]
  },
  {
   "cell_type": "code",
   "execution_count": 240,
   "metadata": {},
   "outputs": [],
   "source": [
    "frenchfama = pd.read_csv('data/ff5factordaily.CSV')"
   ]
  },
  {
   "cell_type": "code",
   "execution_count": 241,
   "metadata": {},
   "outputs": [],
   "source": [
    "frenchfama = frenchfama[frenchfama['date']>start_date]\n",
    "frenchfama = frenchfama[frenchfama['date']<=end_date].reset_index(drop=True)"
   ]
  },
  {
   "cell_type": "code",
   "execution_count": 250,
   "metadata": {},
   "outputs": [],
   "source": [
    "regression_data = pd.concat([indexdata,frenchfama],axis = 1,join = 'inner')"
   ]
  },
  {
   "cell_type": "code",
   "execution_count": 261,
   "metadata": {},
   "outputs": [],
   "source": [
    "model = smf.ols(formula='ABAQreturn ~ benchmarkreturn + SMB + HML + RMW + CMA', data=regression_data)\n",
    "results = model.fit()"
   ]
  },
  {
   "cell_type": "code",
   "execution_count": 262,
   "metadata": {},
   "outputs": [
    {
     "data": {
      "text/html": [
       "<table class=\"simpletable\">\n",
       "<caption>OLS Regression Results</caption>\n",
       "<tr>\n",
       "  <th>Dep. Variable:</th>       <td>ABAQreturn</td>    <th>  R-squared:         </th>  <td>   0.998</td> \n",
       "</tr>\n",
       "<tr>\n",
       "  <th>Model:</th>                   <td>OLS</td>       <th>  Adj. R-squared:    </th>  <td>   0.998</td> \n",
       "</tr>\n",
       "<tr>\n",
       "  <th>Method:</th>             <td>Least Squares</td>  <th>  F-statistic:       </th>  <td>1.226e+05</td>\n",
       "</tr>\n",
       "<tr>\n",
       "  <th>Date:</th>             <td>Thu, 30 Apr 2020</td> <th>  Prob (F-statistic):</th>   <td>  0.00</td>  \n",
       "</tr>\n",
       "<tr>\n",
       "  <th>Time:</th>                 <td>20:57:36</td>     <th>  Log-Likelihood:    </th>  <td>  6156.1</td> \n",
       "</tr>\n",
       "<tr>\n",
       "  <th>No. Observations:</th>      <td>  1005</td>      <th>  AIC:               </th> <td>-1.230e+04</td>\n",
       "</tr>\n",
       "<tr>\n",
       "  <th>Df Residuals:</th>          <td>   999</td>      <th>  BIC:               </th> <td>-1.227e+04</td>\n",
       "</tr>\n",
       "<tr>\n",
       "  <th>Df Model:</th>              <td>     5</td>      <th>                     </th>      <td> </td>    \n",
       "</tr>\n",
       "<tr>\n",
       "  <th>Covariance Type:</th>      <td>nonrobust</td>    <th>                     </th>      <td> </td>    \n",
       "</tr>\n",
       "</table>\n",
       "<table class=\"simpletable\">\n",
       "<tr>\n",
       "         <td></td>            <th>coef</th>     <th>std err</th>      <th>t</th>      <th>P>|t|</th>  <th>[0.025</th>    <th>0.975]</th>  \n",
       "</tr>\n",
       "<tr>\n",
       "  <th>Intercept</th>       <td>-7.091e-05</td> <td> 1.68e-05</td> <td>   -4.225</td> <td> 0.000</td> <td>   -0.000</td> <td> -3.8e-05</td>\n",
       "</tr>\n",
       "<tr>\n",
       "  <th>benchmarkreturn</th> <td>    0.9511</td> <td>    0.001</td> <td>  685.489</td> <td> 0.000</td> <td>    0.948</td> <td>    0.954</td>\n",
       "</tr>\n",
       "<tr>\n",
       "  <th>SMB</th>             <td>    0.0001</td> <td> 3.53e-05</td> <td>    4.138</td> <td> 0.000</td> <td> 7.68e-05</td> <td>    0.000</td>\n",
       "</tr>\n",
       "<tr>\n",
       "  <th>HML</th>             <td>   -0.0002</td> <td> 3.61e-05</td> <td>   -5.879</td> <td> 0.000</td> <td>   -0.000</td> <td>   -0.000</td>\n",
       "</tr>\n",
       "<tr>\n",
       "  <th>RMW</th>             <td> 3.237e-05</td> <td> 4.97e-05</td> <td>    0.651</td> <td> 0.515</td> <td>-6.52e-05</td> <td>    0.000</td>\n",
       "</tr>\n",
       "<tr>\n",
       "  <th>CMA</th>             <td>    0.0001</td> <td> 6.04e-05</td> <td>    2.319</td> <td> 0.021</td> <td> 2.16e-05</td> <td>    0.000</td>\n",
       "</tr>\n",
       "</table>\n",
       "<table class=\"simpletable\">\n",
       "<tr>\n",
       "  <th>Omnibus:</th>       <td>609.424</td> <th>  Durbin-Watson:     </th> <td>   1.910</td> \n",
       "</tr>\n",
       "<tr>\n",
       "  <th>Prob(Omnibus):</th> <td> 0.000</td>  <th>  Jarque-Bera (JB):  </th> <td>21588.483</td>\n",
       "</tr>\n",
       "<tr>\n",
       "  <th>Skew:</th>          <td>-2.190</td>  <th>  Prob(JB):          </th> <td>    0.00</td> \n",
       "</tr>\n",
       "<tr>\n",
       "  <th>Kurtosis:</th>      <td>25.279</td>  <th>  Cond. No.          </th> <td>    83.0</td> \n",
       "</tr>\n",
       "</table><br/><br/>Warnings:<br/>[1] Standard Errors assume that the covariance matrix of the errors is correctly specified."
      ],
      "text/plain": [
       "<class 'statsmodels.iolib.summary.Summary'>\n",
       "\"\"\"\n",
       "                            OLS Regression Results                            \n",
       "==============================================================================\n",
       "Dep. Variable:             ABAQreturn   R-squared:                       0.998\n",
       "Model:                            OLS   Adj. R-squared:                  0.998\n",
       "Method:                 Least Squares   F-statistic:                 1.226e+05\n",
       "Date:                Thu, 30 Apr 2020   Prob (F-statistic):               0.00\n",
       "Time:                        20:57:36   Log-Likelihood:                 6156.1\n",
       "No. Observations:                1005   AIC:                        -1.230e+04\n",
       "Df Residuals:                     999   BIC:                        -1.227e+04\n",
       "Df Model:                           5                                         \n",
       "Covariance Type:            nonrobust                                         \n",
       "===================================================================================\n",
       "                      coef    std err          t      P>|t|      [0.025      0.975]\n",
       "-----------------------------------------------------------------------------------\n",
       "Intercept       -7.091e-05   1.68e-05     -4.225      0.000      -0.000    -3.8e-05\n",
       "benchmarkreturn     0.9511      0.001    685.489      0.000       0.948       0.954\n",
       "SMB                 0.0001   3.53e-05      4.138      0.000    7.68e-05       0.000\n",
       "HML                -0.0002   3.61e-05     -5.879      0.000      -0.000      -0.000\n",
       "RMW              3.237e-05   4.97e-05      0.651      0.515   -6.52e-05       0.000\n",
       "CMA                 0.0001   6.04e-05      2.319      0.021    2.16e-05       0.000\n",
       "==============================================================================\n",
       "Omnibus:                      609.424   Durbin-Watson:                   1.910\n",
       "Prob(Omnibus):                  0.000   Jarque-Bera (JB):            21588.483\n",
       "Skew:                          -2.190   Prob(JB):                         0.00\n",
       "Kurtosis:                      25.279   Cond. No.                         83.0\n",
       "==============================================================================\n",
       "\n",
       "Warnings:\n",
       "[1] Standard Errors assume that the covariance matrix of the errors is correctly specified.\n",
       "\"\"\""
      ]
     },
     "execution_count": 262,
     "metadata": {},
     "output_type": "execute_result"
    }
   ],
   "source": [
    "results.summary()"
   ]
  }
 ],
 "metadata": {
  "kernelspec": {
   "display_name": "Python 3.7.7 64-bit ('venv': venv)",
   "language": "python",
   "name": "python37764bitvenvvenvbbdd74dff8984065b69b8637fd8fd791"
  },
  "language_info": {
   "codemirror_mode": {
    "name": "ipython",
    "version": 3
   },
   "file_extension": ".py",
   "mimetype": "text/x-python",
   "name": "python",
   "nbconvert_exporter": "python",
   "pygments_lexer": "ipython3",
   "version": "3.7.7-final"
  }
 },
 "nbformat": 4,
 "nbformat_minor": 4
}