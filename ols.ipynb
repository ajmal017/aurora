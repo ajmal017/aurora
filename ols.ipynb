{
 "cells": [
  {
   "cell_type": "code",
   "execution_count": 1,
   "metadata": {},
   "outputs": [],
   "source": [
    "import requests\n",
    "import pandas as pd\n",
    "import numpy as np\n",
    "import statsmodels.formula.api as smf"
   ]
  },
  {
   "cell_type": "code",
   "execution_count": 33,
   "metadata": {},
   "outputs": [],
   "source": [
    "codelist = \"AAPL\"\n",
    "benchmark = \"VOO\"\n",
    "start_date = \"2016-03-13\"\n",
    "end_date = \"2020-03-13\""
   ]
  },
  {
   "cell_type": "code",
   "execution_count": null,
   "metadata": {},
   "outputs": [],
   "source": [
    "with open('data/token.txt', 'r') as file:\n",
    "    alpha_key = file.read()"
   ]
  },
  {
   "cell_type": "code",
   "execution_count": 34,
   "metadata": {},
   "outputs": [],
   "source": [
    "indexdata = pd.DataFrame()\n",
    "\n",
    "alpha_code = [codelist]\n",
    "if benchmark != 'None':\n",
    "    alpha_code = codelist + [benchmark]\n",
    "\n",
    "for x in range(0,len(alpha_code)):\n",
    "    alpha_request = (\n",
    "    'https://www.alphavantage.co/query?function=TIME_SERIES_DAILY_ADJUSTED&symbol='\n",
    "    f'{alpha_code[x]}&outputsize=full&apikey={alpha_key}'\n",
    "    )\n",
    "    response = requests.get(alpha_request).json()\n",
    "    \n",
    "    response_df = pd.DataFrame(response['Time Series (Daily)']).transpose().reset_index()\n",
    "    response_df['4. close'] = pd.to_numeric(response_df['4. close'])\n",
    "    response_df = response_df[['index','4. close']]\n",
    "    response_df = response_df[response_df['index']>start_date][response_df['index']<end_date]\n",
    "    if x == len(alpha_code)-1:\n",
    "        response_df.columns = ['date','benchmark']\n",
    "    else:\n",
    "        response_df.columns = ['date',alpha_code[x]]\n",
    "    \n",
    "    if x == 0:\n",
    "        indexdata = indexdata.append(response_df)\n",
    "    else:\n",
    "        indexdata = pd.merge(indexdata,response_df)"
   ]
  },
  {
   "cell_type": "code",
   "execution_count": null,
   "metadata": {},
   "outputs": [],
   "source": []
  },
  {
   "cell_type": "code",
   "execution_count": 36,
   "metadata": {},
   "outputs": [],
   "source": [
    "indexdata = indexdata.sort_values('date').reset_index(drop = True)\n",
    "indexdata['portfolioreturn'] = (indexdata[codelist[0]] - indexdata[codelist[0]].shift(1))/indexdata[codelist[0]].shift(1)\n",
    "indexdata['benchmarkreturn'] = (indexdata.benchmark - indexdata.benchmark.shift(1))/indexdata.benchmark.shift(1)"
   ]
  },
  {
   "cell_type": "code",
   "execution_count": 37,
   "metadata": {},
   "outputs": [],
   "source": [
    "# For one set of returns, we can just compute the covariance between our benchmark and portfolio, \n",
    "# which should always be true as I will be compressing portfolio into one set of returns\n",
    "covariance_matrix = indexdata[[\"portfolioreturn\",\"benchmarkreturn\"]].cov()\n",
    "covariance_coefficient = covariance_matrix.iloc[0,1]\n",
    "benchmark_variance = indexdata[\"benchmarkreturn\"].var()\n",
    "portfolio_beta = covariance_coefficient / benchmark_variance"
   ]
  },
  {
   "cell_type": "code",
   "execution_count": 38,
   "metadata": {},
   "outputs": [],
   "source": [
    "model = smf.ols(formula='portfolioreturn ~ benchmarkreturn', data=indexdata)\n",
    "results = model.fit()"
   ]
  },
  {
   "cell_type": "code",
   "execution_count": 39,
   "metadata": {},
   "outputs": [],
   "source": [
    "overview = pd.DataFrame(results.summary().tables[0])"
   ]
  },
  {
   "cell_type": "code",
   "execution_count": 40,
   "metadata": {},
   "outputs": [],
   "source": [
    "temporary_overview = overview[[2,3]]\n",
    "temporary_overview.columns = [0,1]"
   ]
  },
  {
   "cell_type": "code",
   "execution_count": 41,
   "metadata": {},
   "outputs": [],
   "source": [
    "overview = pd.concat([overview[[0,1]],temporary_overview],ignore_index=True)\n",
    "overview = overview.transpose()\n",
    "overview = overview.drop([16,17], axis = 1)\n",
    "overview.columns = overview.iloc[0]\n",
    "overview = overview.drop([0], axis = 0)"
   ]
  },
  {
   "cell_type": "code",
   "execution_count": 42,
   "metadata": {},
   "outputs": [],
   "source": [
    "parameters = pd.DataFrame(results.summary().tables[1])"
   ]
  },
  {
   "cell_type": "code",
   "execution_count": 43,
   "metadata": {},
   "outputs": [],
   "source": [
    "parameters.columns = parameters.iloc[0]\n",
    "parameters = parameters.drop(0,axis = 0)"
   ]
  },
  {
   "cell_type": "code",
   "execution_count": 44,
   "metadata": {},
   "outputs": [],
   "source": [
    "metrics = pd.DataFrame(results.summary().tables[2])"
   ]
  },
  {
   "cell_type": "code",
   "execution_count": 45,
   "metadata": {},
   "outputs": [],
   "source": [
    "temporary_metrics = metrics[[2,3]]\n",
    "temporary_metrics.columns = [0,1]"
   ]
  },
  {
   "cell_type": "code",
   "execution_count": 46,
   "metadata": {},
   "outputs": [],
   "source": [
    "metrics = pd.concat([metrics[[0,1]],temporary_metrics],ignore_index=True)\n",
    "metrics = metrics.transpose()"
   ]
  },
  {
   "cell_type": "code",
   "execution_count": 47,
   "metadata": {},
   "outputs": [],
   "source": [
    "metrics.columns = metrics.iloc[0]\n",
    "metrics = metrics.drop([0], axis = 0)"
   ]
  },
  {
   "cell_type": "code",
   "execution_count": 48,
   "metadata": {},
   "outputs": [
    {
     "data": {
      "text/html": [
       "<div>\n",
       "<style scoped>\n",
       "    .dataframe tbody tr th:only-of-type {\n",
       "        vertical-align: middle;\n",
       "    }\n",
       "\n",
       "    .dataframe tbody tr th {\n",
       "        vertical-align: top;\n",
       "    }\n",
       "\n",
       "    .dataframe thead th {\n",
       "        text-align: right;\n",
       "    }\n",
       "</style>\n",
       "<table border=\"1\" class=\"dataframe\">\n",
       "  <thead>\n",
       "    <tr style=\"text-align: right;\">\n",
       "      <th></th>\n",
       "      <th>Omnibus:</th>\n",
       "      <th>Prob(Omnibus):</th>\n",
       "      <th>Skew:</th>\n",
       "      <th>Kurtosis:</th>\n",
       "      <th>Durbin-Watson:</th>\n",
       "      <th>Jarque-Bera (JB):</th>\n",
       "      <th>Prob(JB):</th>\n",
       "      <th>Cond. No.</th>\n",
       "    </tr>\n",
       "  </thead>\n",
       "  <tbody>\n",
       "    <tr>\n",
       "      <th>1</th>\n",
       "      <td>171.706</td>\n",
       "      <td>0.000</td>\n",
       "      <td>0.349</td>\n",
       "      <td>10.120</td>\n",
       "      <td>1.766</td>\n",
       "      <td>2145.618</td>\n",
       "      <td>0.00</td>\n",
       "      <td>106.</td>\n",
       "    </tr>\n",
       "  </tbody>\n",
       "</table>\n",
       "</div>"
      ],
      "text/plain": [
       "0 Omnibus: Prob(Omnibus):   Skew: Kurtosis:   Durbin-Watson:       \\\n",
       "1  171.706          0.000   0.349    10.120                 1.766   \n",
       "\n",
       "0   Jarque-Bera (JB):     Prob(JB):             Cond. No.            \n",
       "1              2145.618                  0.00                  106.  "
      ]
     },
     "execution_count": 48,
     "metadata": {},
     "output_type": "execute_result"
    }
   ],
   "source": [
    "metrics"
   ]
  },
  {
   "cell_type": "code",
   "execution_count": 49,
   "metadata": {},
   "outputs": [
    {
     "data": {
      "text/html": [
       "<div>\n",
       "<style scoped>\n",
       "    .dataframe tbody tr th:only-of-type {\n",
       "        vertical-align: middle;\n",
       "    }\n",
       "\n",
       "    .dataframe tbody tr th {\n",
       "        vertical-align: top;\n",
       "    }\n",
       "\n",
       "    .dataframe thead th {\n",
       "        text-align: right;\n",
       "    }\n",
       "</style>\n",
       "<table border=\"1\" class=\"dataframe\">\n",
       "  <thead>\n",
       "    <tr style=\"text-align: right;\">\n",
       "      <th></th>\n",
       "      <th></th>\n",
       "      <th>coef</th>\n",
       "      <th>std err</th>\n",
       "      <th>t</th>\n",
       "      <th>P&gt;|t|</th>\n",
       "      <th>[0.025</th>\n",
       "      <th>0.975]</th>\n",
       "    </tr>\n",
       "  </thead>\n",
       "  <tbody>\n",
       "    <tr>\n",
       "      <th>1</th>\n",
       "      <td>Intercept</td>\n",
       "      <td>0.0007</td>\n",
       "      <td>0.000</td>\n",
       "      <td>1.985</td>\n",
       "      <td>0.047</td>\n",
       "      <td>8.12e-06</td>\n",
       "      <td>0.001</td>\n",
       "    </tr>\n",
       "    <tr>\n",
       "      <th>2</th>\n",
       "      <td>benchmarkreturn</td>\n",
       "      <td>1.2500</td>\n",
       "      <td>0.038</td>\n",
       "      <td>33.038</td>\n",
       "      <td>0.000</td>\n",
       "      <td>1.176</td>\n",
       "      <td>1.324</td>\n",
       "    </tr>\n",
       "  </tbody>\n",
       "</table>\n",
       "</div>"
      ],
      "text/plain": [
       "0                         coef    std err          t   P>|t|     [0.025  \\\n",
       "1        Intercept      0.0007      0.000      1.985   0.047   8.12e-06   \n",
       "2  benchmarkreturn      1.2500      0.038     33.038   0.000      1.176   \n",
       "\n",
       "0     0.975]  \n",
       "1      0.001  \n",
       "2      1.324  "
      ]
     },
     "execution_count": 49,
     "metadata": {},
     "output_type": "execute_result"
    }
   ],
   "source": [
    "parameters"
   ]
  },
  {
   "cell_type": "code",
   "execution_count": 50,
   "metadata": {},
   "outputs": [
    {
     "data": {
      "text/html": [
       "<div>\n",
       "<style scoped>\n",
       "    .dataframe tbody tr th:only-of-type {\n",
       "        vertical-align: middle;\n",
       "    }\n",
       "\n",
       "    .dataframe tbody tr th {\n",
       "        vertical-align: top;\n",
       "    }\n",
       "\n",
       "    .dataframe thead th {\n",
       "        text-align: right;\n",
       "    }\n",
       "</style>\n",
       "<table border=\"1\" class=\"dataframe\">\n",
       "  <thead>\n",
       "    <tr style=\"text-align: right;\">\n",
       "      <th></th>\n",
       "      <th>Dep. Variable:</th>\n",
       "      <th>Model:</th>\n",
       "      <th>Method:</th>\n",
       "      <th>Date:</th>\n",
       "      <th>Time:</th>\n",
       "      <th>No. Observations:</th>\n",
       "      <th>Df Residuals:</th>\n",
       "      <th>Df Model:</th>\n",
       "      <th>Covariance Type:</th>\n",
       "      <th>R-squared:</th>\n",
       "      <th>Adj. R-squared:</th>\n",
       "      <th>F-statistic:</th>\n",
       "      <th>Prob (F-statistic):</th>\n",
       "      <th>Log-Likelihood:</th>\n",
       "      <th>AIC:</th>\n",
       "      <th>BIC:</th>\n",
       "    </tr>\n",
       "  </thead>\n",
       "  <tbody>\n",
       "    <tr>\n",
       "      <th>1</th>\n",
       "      <td>portfolioreturn</td>\n",
       "      <td>OLS</td>\n",
       "      <td>Least Squares</td>\n",
       "      <td>Fri, 15 May 2020</td>\n",
       "      <td>22:56:44</td>\n",
       "      <td>1006</td>\n",
       "      <td>1004</td>\n",
       "      <td>1</td>\n",
       "      <td>nonrobust</td>\n",
       "      <td>0.521</td>\n",
       "      <td>0.520</td>\n",
       "      <td>1091.</td>\n",
       "      <td>1.34e-162</td>\n",
       "      <td>3078.5</td>\n",
       "      <td>-6153.</td>\n",
       "      <td>-6143.</td>\n",
       "    </tr>\n",
       "  </tbody>\n",
       "</table>\n",
       "</div>"
      ],
      "text/plain": [
       "0   Dep. Variable: Model:        Method:             Date:     Time:  \\\n",
       "1  portfolioreturn    OLS  Least Squares  Fri, 15 May 2020  22:56:44   \n",
       "\n",
       "0 No. Observations: Df Residuals: Df Model: Covariance Type:  \\\n",
       "1              1006          1004         1        nonrobust   \n",
       "\n",
       "0   R-squared:            Adj. R-squared:       F-statistic:         \\\n",
       "1                 0.521                 0.520                 1091.   \n",
       "\n",
       "0   Prob (F-statistic):   Log-Likelihood:       AIC:                 \\\n",
       "1             1.34e-162                3078.5                -6153.   \n",
       "\n",
       "0   BIC:                 \n",
       "1                -6143.  "
      ]
     },
     "execution_count": 50,
     "metadata": {},
     "output_type": "execute_result"
    }
   ],
   "source": [
    "overview"
   ]
  },
  {
   "cell_type": "code",
   "execution_count": 240,
   "metadata": {},
   "outputs": [],
   "source": [
    "frenchfama = pd.read_csv('data/ff5factordaily.CSV')"
   ]
  },
  {
   "cell_type": "code",
   "execution_count": 241,
   "metadata": {},
   "outputs": [],
   "source": [
    "frenchfama = frenchfama[frenchfama['date']>start_date]\n",
    "frenchfama = frenchfama[frenchfama['date']<=end_date].reset_index(drop=True)"
   ]
  },
  {
   "cell_type": "code",
   "execution_count": 250,
   "metadata": {},
   "outputs": [],
   "source": [
    "regression_data = pd.concat([indexdata,frenchfama],axis = 1,join = 'inner')"
   ]
  },
  {
   "cell_type": "code",
   "execution_count": 261,
   "metadata": {},
   "outputs": [],
   "source": [
    "model = smf.ols(formula='ABAQreturn ~ benchmarkreturn + SMB + HML + RMW + CMA', data=regression_data)\n",
    "results = model.fit()"
   ]
  }
 ],
 "metadata": {
  "kernelspec": {
   "display_name": "Python 3.7.7 64-bit ('venv': venv)",
   "language": "python",
   "name": "python37764bitvenvvenvbbdd74dff8984065b69b8637fd8fd791"
  },
  "language_info": {
   "codemirror_mode": {
    "name": "ipython",
    "version": 3
   },
   "file_extension": ".py",
   "mimetype": "text/x-python",
   "name": "python",
   "nbconvert_exporter": "python",
   "pygments_lexer": "ipython3",
   "version": "3.7.7"
  }
 },
 "nbformat": 4,
 "nbformat_minor": 4
}