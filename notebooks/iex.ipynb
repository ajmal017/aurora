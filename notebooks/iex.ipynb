{
 "cells": [
  {
   "cell_type": "code",
   "execution_count": 110,
   "metadata": {},
   "outputs": [],
   "source": [
    "import requests\n",
    "import pandas as pd"
   ]
  },
  {
   "cell_type": "code",
   "execution_count": 2,
   "metadata": {},
   "outputs": [],
   "source": [
    "with open('../data/token.txt', 'r') as file:\n",
    "    token = file.read()"
   ]
  },
  {
   "cell_type": "code",
   "execution_count": 51,
   "metadata": {},
   "outputs": [],
   "source": [
    "# Mutual Fund Symbols\n",
    "## This call returns an array of mutual fund symbols that IEX Cloud supports for API calls.\n",
    "iex_request = f'https://sandbox.iexapis.com/stable/ref-data/mutual-funds/symbols?token={token}'"
   ]
  },
  {
   "cell_type": "code",
   "execution_count": 54,
   "metadata": {},
   "outputs": [],
   "source": [
    "response = requests.get(iex_request).json()"
   ]
  },
  {
   "cell_type": "code",
   "execution_count": 18,
   "metadata": {},
   "outputs": [],
   "source": [
    "#IEX Symbols\n",
    "#This call returns an array of symbols the Investors Exchange supports for trading. This list is updated daily as of 7:45 a.m. ET. Symbols may be added or removed by the Investors Exchange after the list was produced.\n",
    "iex_request = f'https://sandbox.iexapis.com/stable//ref-data/iex/symbols?token={token}'"
   ]
  },
  {
   "cell_type": "code",
   "execution_count": 53,
   "metadata": {},
   "outputs": [],
   "source": [
    "iex_request = f'https://sandbox.iexapis.com/stable/stock/market/batch?symbols=aapl,fb&types=chart&range=1m&token={token}&filter=date,close'"
   ]
  },
  {
   "cell_type": "code",
   "execution_count": 88,
   "metadata": {},
   "outputs": [],
   "source": [
    "codeList = ['AAPL','FB']"
   ]
  },
  {
   "cell_type": "code",
   "execution_count": 97,
   "metadata": {},
   "outputs": [],
   "source": [
    "def iexHistoricalPriceRequest (codeList,token):\n",
    "    codeListString = ','.join(codeList)\n",
    "    iexRequest = f'https://sandbox.iexapis.com/stable/stock/market/batch?symbols={codeListString}&types=chart&range=max&token={token}&filter=date,close'\n",
    "    iexResponse = requests.get(iex_request).json()\n",
    "    for x in codeList:\n",
    "        singleCode = pd.DataFrame(iexResponse[x]['chart'])\n",
    "        singleCode.columns = ['date',x]\n",
    "        if x == codeList[0]:\n",
    "            indexData = indexData.append(singleCode)\n",
    "        else:\n",
    "            indexData = pd.merge(indexData,singleCode)\n",
    "        indexData = indexData.sortby('date')\n",
    "        return(indexData)"
   ]
  }
 ],
 "metadata": {
  "kernelspec": {
   "display_name": "Python 3",
   "language": "python",
   "name": "python3"
  },
  "language_info": {
   "codemirror_mode": {
    "name": "ipython",
    "version": 3
   },
   "file_extension": ".py",
   "mimetype": "text/x-python",
   "name": "python",
   "nbconvert_exporter": "python",
   "pygments_lexer": "ipython3",
   "version": "3.7.7"
  }
 },
 "nbformat": 4,
 "nbformat_minor": 4
}