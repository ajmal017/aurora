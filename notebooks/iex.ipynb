{
 "cells": [
  {
   "cell_type": "code",
   "execution_count": 1,
   "metadata": {},
   "outputs": [],
   "source": [
    "import requests\n",
    "import pandas as pd"
   ]
  },
  {
   "cell_type": "code",
   "execution_count": 2,
   "metadata": {},
   "outputs": [],
   "source": [
    "with open('../data/token.txt', 'r') as file:\n",
    "    token = file.read()"
   ]
  },
  {
   "cell_type": "code",
   "execution_count": 3,
   "metadata": {},
   "outputs": [],
   "source": [
    "# Mutual Fund Symbols\n",
    "## This call returns an array of mutual fund symbols that IEX Cloud supports for API calls.\n",
    "iex_request = f'https://sandbox.iexapis.com/stable/ref-data/mutual-funds/symbols?token={token}'"
   ]
  },
  {
   "cell_type": "code",
   "execution_count": 4,
   "metadata": {},
   "outputs": [],
   "source": [
    "response = requests.get(iex_request).json()"
   ]
  },
  {
   "cell_type": "code",
   "execution_count": 5,
   "metadata": {},
   "outputs": [],
   "source": [
    "#IEX Symbols\n",
    "#This call returns an array of symbols the Investors Exchange supports for trading. This list is updated daily as of 7:45 a.m. ET. Symbols may be added or removed by the Investors Exchange after the list was produced.\n",
    "iex_request = f'https://sandbox.iexapis.com/stable//ref-data/iex/symbols?token={token}'"
   ]
  },
  {
   "cell_type": "code",
   "execution_count": 6,
   "metadata": {},
   "outputs": [],
   "source": [
    "iex_request = f'https://sandbox.iexapis.com/stable/stock/market/batch?symbols=aapl,fb&types=chart&range=1m&token={token}&filter=date,close'"
   ]
  },
  {
   "cell_type": "code",
   "execution_count": 7,
   "metadata": {},
   "outputs": [],
   "source": [
    "codeList = [\"AAPL\",\"VOO\"]"
   ]
  },
  {
   "cell_type": "code",
   "execution_count": null,
   "metadata": {},
   "outputs": [],
   "source": []
  },
  {
   "cell_type": "code",
   "execution_count": 8,
   "metadata": {},
   "outputs": [],
   "source": [
    "def iexHistoricalPriceRequest (codeList,token):\n",
    "    indexData = pd.DataFrame()\n",
    "    codeListString = ','.join(codeList)\n",
    "    iexRequest = f'https://sandbox.iexapis.com/stable/stock/market/batch?symbols={codeListString}&types=chart&range=max&token={token}&filter=date,close'\n",
    "    iexResponse = requests.get(iexRequest).json()\n",
    "    for x in codeList:\n",
    "        singleCode = pd.DataFrame(iexResponse[x]['chart'])\n",
    "        singleCode.columns = ['date',x]\n",
    "        if x == codeList[0]:\n",
    "            indexData = indexData.append(singleCode)\n",
    "        else:\n",
    "            indexData = pd.merge(indexData,singleCode)\n",
    "    indexData = indexData.sort_values(by='date').reset_index(drop=True)\n",
    "    return(indexData)"
   ]
  },
  {
   "cell_type": "code",
   "execution_count": 9,
   "metadata": {},
   "outputs": [],
   "source": [
    "import json\n",
    "test = json.loads(iexHistoricalPriceRequest(codeList,token).to_json(orient = 'records'))"
   ]
  },
  {
   "cell_type": "code",
   "execution_count": 10,
   "metadata": {},
   "outputs": [],
   "source": [
    "import json\n",
    "with open('regressiondata.json', 'w') as f:\n",
    "    json.dump(test, f)"
   ]
  },
  {
   "cell_type": "code",
   "execution_count": 16,
   "metadata": {},
   "outputs": [],
   "source": [
    "data = json.load(open('../data/backtestCache.json', 'r'))"
   ]
  },
  {
   "cell_type": "code",
   "execution_count": 17,
   "metadata": {},
   "outputs": [
    {
     "output_type": "execute_result",
     "data": {
      "text/plain": "            date    AAPL     IBM    MSFT\n0     2015-05-26  131.82  173.46   46.66\n1     2015-05-27  133.49  176.00   49.53\n2     2015-05-28  132.28  178.67   49.71\n3     2015-05-29  134.64  170.06   49.17\n4     2015-06-01  132.48  173.03   49.41\n...          ...     ...     ...     ...\n1254  2020-05-18  328.75  127.57  189.65\n1255  2020-05-19  325.78  122.34  192.43\n1256  2020-05-20  328.90  124.10  187.30\n1257  2020-05-21  324.99  123.73  188.04\n1258  2020-05-22  324.39  120.62  192.27\n\n[1259 rows x 4 columns]",
      "text/html": "<div>\n<style scoped>\n    .dataframe tbody tr th:only-of-type {\n        vertical-align: middle;\n    }\n\n    .dataframe tbody tr th {\n        vertical-align: top;\n    }\n\n    .dataframe thead th {\n        text-align: right;\n    }\n</style>\n<table border=\"1\" class=\"dataframe\">\n  <thead>\n    <tr style=\"text-align: right;\">\n      <th></th>\n      <th>date</th>\n      <th>AAPL</th>\n      <th>IBM</th>\n      <th>MSFT</th>\n    </tr>\n  </thead>\n  <tbody>\n    <tr>\n      <th>0</th>\n      <td>2015-05-26</td>\n      <td>131.82</td>\n      <td>173.46</td>\n      <td>46.66</td>\n    </tr>\n    <tr>\n      <th>1</th>\n      <td>2015-05-27</td>\n      <td>133.49</td>\n      <td>176.00</td>\n      <td>49.53</td>\n    </tr>\n    <tr>\n      <th>2</th>\n      <td>2015-05-28</td>\n      <td>132.28</td>\n      <td>178.67</td>\n      <td>49.71</td>\n    </tr>\n    <tr>\n      <th>3</th>\n      <td>2015-05-29</td>\n      <td>134.64</td>\n      <td>170.06</td>\n      <td>49.17</td>\n    </tr>\n    <tr>\n      <th>4</th>\n      <td>2015-06-01</td>\n      <td>132.48</td>\n      <td>173.03</td>\n      <td>49.41</td>\n    </tr>\n    <tr>\n      <th>...</th>\n      <td>...</td>\n      <td>...</td>\n      <td>...</td>\n      <td>...</td>\n    </tr>\n    <tr>\n      <th>1254</th>\n      <td>2020-05-18</td>\n      <td>328.75</td>\n      <td>127.57</td>\n      <td>189.65</td>\n    </tr>\n    <tr>\n      <th>1255</th>\n      <td>2020-05-19</td>\n      <td>325.78</td>\n      <td>122.34</td>\n      <td>192.43</td>\n    </tr>\n    <tr>\n      <th>1256</th>\n      <td>2020-05-20</td>\n      <td>328.90</td>\n      <td>124.10</td>\n      <td>187.30</td>\n    </tr>\n    <tr>\n      <th>1257</th>\n      <td>2020-05-21</td>\n      <td>324.99</td>\n      <td>123.73</td>\n      <td>188.04</td>\n    </tr>\n    <tr>\n      <th>1258</th>\n      <td>2020-05-22</td>\n      <td>324.39</td>\n      <td>120.62</td>\n      <td>192.27</td>\n    </tr>\n  </tbody>\n</table>\n<p>1259 rows × 4 columns</p>\n</div>"
     },
     "metadata": {},
     "execution_count": 17
    }
   ],
   "source": [
    "pd.DataFrame(data)"
   ]
  },
  {
   "cell_type": "code",
   "execution_count": null,
   "metadata": {},
   "outputs": [],
   "source": []
  }
 ],
 "metadata": {
  "kernelspec": {
   "display_name": "Python 3",
   "language": "python",
   "name": "python3"
  },
  "language_info": {
   "codemirror_mode": {
    "name": "ipython",
    "version": 3
   },
   "file_extension": ".py",
   "mimetype": "text/x-python",
   "name": "python",
   "nbconvert_exporter": "python",
   "pygments_lexer": "ipython3",
   "version": "3.7.3-final"
  }
 },
 "nbformat": 4,
 "nbformat_minor": 4
}