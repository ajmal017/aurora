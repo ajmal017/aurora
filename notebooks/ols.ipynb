{
 "cells": [
  {
   "cell_type": "code",
   "execution_count": 18,
   "metadata": {},
   "outputs": [],
   "source": [
    "import requests\n",
    "import pandas as pd\n",
    "import numpy as np\n",
    "import statsmodels.formula.api as smf\n",
    "import json"
   ]
  },
  {
   "cell_type": "code",
   "execution_count": 37,
   "metadata": {},
   "outputs": [],
   "source": [
    "# inputs\n",
    "codeList = [\"AAPL\"]\n",
    "benchmark = \"VOO\"\n",
    "start_date = \"2016-03-13\"\n",
    "end_date = \"2020-03-13\"\n",
    "regressionFactors = [\"MktMinRF\", \"SMB\" ]\n",
    "with open('../data/token.txt', 'r') as file:\n",
    "    token = file.read()"
   ]
  },
  {
   "cell_type": "code",
   "execution_count": 38,
   "metadata": {},
   "outputs": [],
   "source": [
    "if benchmark != \"None\":\n",
    "    codeList.append(benchmark)"
   ]
  },
  {
   "cell_type": "code",
   "execution_count": 39,
   "metadata": {},
   "outputs": [],
   "source": [
    "def iexHistoricalPriceRequest (codeList,token):\n",
    "    indexData = pd.DataFrame()\n",
    "    codeListString = ','.join(codeList)\n",
    "    iexRequest = f'https://sandbox.iexapis.com/stable/stock/market/batch?symbols={codeListString}&types=chart&range=max&token={token}&filter=date,close'\n",
    "    iexResponse = requests.get(iexRequest).json()\n",
    "    for x in codeList:\n",
    "        singleCode = pd.DataFrame(iexResponse[x]['chart'])\n",
    "        singleCode.columns = ['date',x]\n",
    "        if x == codeList[0]:\n",
    "            indexData = indexData.append(singleCode)\n",
    "        else:\n",
    "            indexData = pd.merge(indexData,singleCode)\n",
    "    indexData = indexData.sort_values(by='date').reset_index(drop=True)\n",
    "    return(indexData)"
   ]
  },
  {
   "cell_type": "code",
   "execution_count": 40,
   "metadata": {},
   "outputs": [],
   "source": [
    "indexData = iexHistoricalPriceRequest(codeList,token)\n",
    "indexData=indexData.rename(columns = {indexData.columns[-1] :'benchmark'})\n",
    "indexData = indexData[indexData['date']>=start_date]\n",
    "indexData = indexData[indexData['date']<=end_date]\n",
    "indexData = indexData.reset_index(drop=True)"
   ]
  },
  {
   "cell_type": "code",
   "execution_count": 41,
   "metadata": {},
   "outputs": [],
   "source": [
    "indexData['portfolioreturn'] = (indexData[codeList[0]] - indexData[codeList[0]].shift(1))/indexData[codeList[0]].shift(1)\n",
    "indexData['benchmarkreturn'] = (indexData.benchmark - indexData.benchmark.shift(1))/indexData.benchmark.shift(1)"
   ]
  },
  {
   "cell_type": "code",
   "execution_count": 42,
   "metadata": {},
   "outputs": [],
   "source": [
    "frenchfama = pd.read_csv('data/ff5factordaily.CSV')\n",
    "frenchfama = frenchfama[frenchfama['date']>start_date]\n",
    "frenchfama = frenchfama[frenchfama['date']<=end_date].reset_index(drop=True)\n",
    "regression_data = pd.concat([indexData,frenchfama],axis = 1,join = 'inner')"
   ]
  },
  {
   "cell_type": "code",
   "execution_count": 44,
   "metadata": {},
   "outputs": [],
   "source": [
    "regressionFactors = ' + '.join(regressionFactors)"
   ]
  },
  {
   "cell_type": "code",
   "execution_count": 45,
   "metadata": {},
   "outputs": [],
   "source": [
    "model = smf.ols(formula=f'portfolioreturn ~ {regressionFactors}', data=regression_data)\n",
    "results = model.fit()"
   ]
  },
  {
   "cell_type": "code",
   "execution_count": 48,
   "metadata": {},
   "outputs": [],
   "source": [
    "def result_summary_to_dataframe(results):\n",
    "    '''take the result of an statsmodel results table and transforms it into a dataframe'''\n",
    "    #https://www.statsmodels.org/stable/generated/statsmodels.regression.linear_model.RegressionResults.html link if interested in adding more results\n",
    "    summary_json = {\n",
    "    'nobs': results.nobs,\n",
    "    'rsquared': results.rsquared,\n",
    "    'rsquared_adj': results.rsquared_adj,\n",
    "    'fvalue': results.fvalue\n",
    "    }\n",
    "    return summary_json"
   ]
  },
  {
   "cell_type": "code",
   "execution_count": 49,
   "metadata": {},
   "outputs": [],
   "source": [
    "def result_pvalues_to_dataframe(results):\n",
    "    '''take the result of an statsmodel results table and transforms it into a dataframe'''\n",
    "    pvals = results.pvalues\n",
    "    coeff = results.params\n",
    "    conf_lower = results.conf_int()[0]\n",
    "    conf_higher = results.conf_int()[1]\n",
    "\n",
    "    results_df = pd.DataFrame({\"pvals\":pvals,\n",
    "                               \"coeff\":coeff,\n",
    "                               \"conf_lower\":conf_lower,\n",
    "                               \"conf_higher\":conf_higher\n",
    "                                })\n",
    "\n",
    "    #Reordering...\n",
    "    results_df = results_df[[\"coeff\",\"pvals\",\"conf_lower\",\"conf_higher\"]]\n",
    "    return results_df"
   ]
  },
  {
   "cell_type": "code",
   "execution_count": 95,
   "metadata": {},
   "outputs": [],
   "source": [
    "pvaluesJSON = result_pvalues_to_dataframe(results).to_json()\n",
    "summaryJSON = result_summary_to_dataframe(results)\n",
    "pvaluesJSON = json.loads(pvaluesJSON)\n",
    "outputJSON = summaryJSON\n",
    "outputJSON.update(pvaluesJSON)"
   ]
  },
  {
   "cell_type": "code",
   "execution_count": 50,
   "metadata": {},
   "outputs": [
    {
     "output_type": "execute_result",
     "data": {
      "text/plain": "              coeff         pvals  conf_lower  conf_higher\nIntercept  0.000821  2.485656e-01   -0.000575     0.002218\nMktMinRF   0.012128  1.523823e-57    0.010733     0.013522\nSMB       -0.003702  7.412899e-03   -0.006409    -0.000995",
      "text/html": "<div>\n<style scoped>\n    .dataframe tbody tr th:only-of-type {\n        vertical-align: middle;\n    }\n\n    .dataframe tbody tr th {\n        vertical-align: top;\n    }\n\n    .dataframe thead th {\n        text-align: right;\n    }\n</style>\n<table border=\"1\" class=\"dataframe\">\n  <thead>\n    <tr style=\"text-align: right;\">\n      <th></th>\n      <th>coeff</th>\n      <th>pvals</th>\n      <th>conf_lower</th>\n      <th>conf_higher</th>\n    </tr>\n  </thead>\n  <tbody>\n    <tr>\n      <th>Intercept</th>\n      <td>0.000821</td>\n      <td>2.485656e-01</td>\n      <td>-0.000575</td>\n      <td>0.002218</td>\n    </tr>\n    <tr>\n      <th>MktMinRF</th>\n      <td>0.012128</td>\n      <td>1.523823e-57</td>\n      <td>0.010733</td>\n      <td>0.013522</td>\n    </tr>\n    <tr>\n      <th>SMB</th>\n      <td>-0.003702</td>\n      <td>7.412899e-03</td>\n      <td>-0.006409</td>\n      <td>-0.000995</td>\n    </tr>\n  </tbody>\n</table>\n</div>"
     },
     "metadata": {},
     "execution_count": 50
    }
   ],
   "source": [
    "result_pvalues_to_dataframe(results)"
   ]
  }
 ],
 "metadata": {
  "kernelspec": {
   "display_name": "Python 3.7.7 64-bit ('venv': venv)",
   "language": "python",
   "name": "python37764bitvenvvenvbbdd74dff8984065b69b8637fd8fd791"
  },
  "language_info": {
   "codemirror_mode": {
    "name": "ipython",
    "version": 3
   },
   "file_extension": ".py",
   "mimetype": "text/x-python",
   "name": "python",
   "nbconvert_exporter": "python",
   "pygments_lexer": "ipython3",
   "version": "3.7.7-final"
  }
 },
 "nbformat": 4,
 "nbformat_minor": 4
}