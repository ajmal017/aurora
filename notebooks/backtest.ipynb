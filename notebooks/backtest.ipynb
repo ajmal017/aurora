{
 "cells": [
  {
   "cell_type": "code",
   "execution_count": 1,
   "metadata": {},
   "outputs": [],
   "source": [
    "import requests\n",
    "import pandas as pd\n",
    "from datetime import datetime\n",
    "from dateutil.relativedelta import relativedelta\n",
    "import math"
   ]
  },
  {
   "cell_type": "code",
   "execution_count": 2,
   "metadata": {},
   "outputs": [],
   "source": [
    "# Define inputs\n",
    "json_request = {\n",
    "    \"codelist\": [\"IBM\",\"AAPL\"],\n",
    "    \"allocation_weights\": [0.5,0.5],\n",
    "    \"benchmark\": \"MSFT\",\n",
    "    \"initial_amount\": 10000,\n",
    "    \"start_date\": \"2016-03-13\",\n",
    "    \"end_date\": \"2020-03-13\",\n",
    "    \"rebalance\": True,\n",
    "    \"rebalance_frequency\": \"Yearly\",\n",
    "}"
   ]
  },
  {
   "cell_type": "code",
   "execution_count": 3,
   "metadata": {},
   "outputs": [],
   "source": [
    "with open('../data/token.txt', 'r') as file:\n",
    "    token = file.read()"
   ]
  },
  {
   "cell_type": "code",
   "execution_count": 4,
   "metadata": {},
   "outputs": [],
   "source": [
    "month_frequency = {\n",
    "    'Yearly': 12,\n",
    "    'Quarterly': 3,\n",
    "    'Monthly': 1\n",
    "}"
   ]
  },
  {
   "cell_type": "code",
   "execution_count": 5,
   "metadata": {},
   "outputs": [],
   "source": [
    "allocation_weights = json_request['allocation_weights']\n",
    "initial_amount = json_request['initial_amount']\n",
    "start_date = json_request['start_date']\n",
    "end_date = json_request['end_date']\n",
    "codelist = json_request['codelist']\n",
    "benchmark = json_request['benchmark']\n",
    "rebalance = json_request['rebalance']\n",
    "rebalance_frequency = json_request['rebalance_frequency']"
   ]
  },
  {
   "cell_type": "code",
   "execution_count": 6,
   "metadata": {},
   "outputs": [],
   "source": [
    "def iexHistoricalPriceRequest (codeList,token):\n",
    "    indexData = pd.DataFrame()\n",
    "    codeListString = ','.join(codeList)\n",
    "    iexRequest = f'https://sandbox.iexapis.com/stable/stock/market/batch?symbols={codeListString}&types=chart&range=max&token={token}&filter=date,close'\n",
    "    iexResponse = requests.get(iexRequest).json()\n",
    "    for x in codeList:\n",
    "        singleCode = pd.DataFrame(iexResponse[x]['chart'])\n",
    "        singleCode.columns = ['date',x]\n",
    "        if x == codeList[0]:\n",
    "            indexData = indexData.append(singleCode)\n",
    "        else:\n",
    "            indexData = pd.merge(indexData,singleCode)\n",
    "    indexData = indexData.sort_values(by='date').reset_index(drop=True)\n",
    "    return(indexData)"
   ]
  },
  {
   "cell_type": "code",
   "execution_count": 7,
   "metadata": {},
   "outputs": [],
   "source": [
    "iex_code = codelist\n",
    "if benchmark != 'None':\n",
    "    iex_code = codelist + [benchmark]\n",
    "\n",
    "indexData = iexHistoricalPriceRequest(iex_code,token)\n",
    "indexData = indexData.rename(columns = {indexData.columns[-1] :'benchmark'})\n",
    "indexData = indexData[indexData['date']>=start_date]\n",
    "indexData = indexData[indexData['date']<=end_date]\n",
    "indexData = indexData.reset_index(drop=True)"
   ]
  },
  {
   "cell_type": "code",
   "execution_count": 8,
   "metadata": {},
   "outputs": [],
   "source": [
    "end_date = datetime.strptime(end_date,'%Y-%m-%d')\n",
    "start_date = datetime.strptime(start_date,'%Y-%m-%d')\n",
    "num_months = (end_date.year - start_date.year) * 12 + (end_date.month - start_date.month)\n",
    "if (end_date.day < start_date.day):\n",
    "    num_months = num_months - 1"
   ]
  },
  {
   "cell_type": "code",
   "execution_count": 9,
   "metadata": {},
   "outputs": [],
   "source": [
    "rebalance_list =[start_date.strftime(\"%Y-%m-%d\")]\n",
    "if rebalance:\n",
    "    event_count = int(math.floor(num_months / month_frequency[rebalance_frequency]))\n",
    "    rebalance_date = start_date\n",
    "    for x in range(0,event_count):\n",
    "        rebalance_date = rebalance_date + relativedelta(months=+month_frequency[rebalance_frequency])\n",
    "        rebalance_list.append(rebalance_date.strftime(\"%Y-%m-%d\"))\n",
    "else:\n",
    "    rebalance_list.append(end_date.strftime(\"%Y-%m-%d\"))"
   ]
  },
  {
   "cell_type": "code",
   "execution_count": 10,
   "metadata": {},
   "outputs": [],
   "source": [
    "asset_projection = []"
   ]
  },
  {
   "cell_type": "code",
   "execution_count": 11,
   "metadata": {},
   "outputs": [],
   "source": [
    "for x in range(0,len(rebalance_list)-1):\n",
    "    asset_value = [x * initial_amount for x in allocation_weights]\n",
    "    \n",
    "    index_subset = indexData[indexData['date'] >= rebalance_list[x]][indexData['date'] <= rebalance_list[x+1]]\n",
    "    index_subset = index_subset.sort_values(by='date').reset_index(drop=True)\n",
    "\n",
    "    allocation = pd.DataFrame()\n",
    "    for i in range(0,len(allocation_weights)):\n",
    "        indexcode = index_subset.columns[i+1]\n",
    "        scaling_factor = asset_value[i] / index_subset[indexcode][0]\n",
    "        allocation[f'allocation {i}'] = index_subset[indexcode] * scaling_factor\n",
    "\n",
    "        if x != (len(rebalance_list)-1):\n",
    "            allocation = allocation.iloc[:-1, :]\n",
    "            \n",
    "    asset_projection.append(allocation)\n",
    "    \n",
    "    initial_amount = allocation.iloc[len(allocation)-1].sum()"
   ]
  },
  {
   "cell_type": "code",
   "execution_count": 12,
   "metadata": {},
   "outputs": [],
   "source": [
    "asset_projection = pd.concat(asset_projection).reset_index(drop=True)"
   ]
  },
  {
   "cell_type": "code",
   "execution_count": 13,
   "metadata": {},
   "outputs": [],
   "source": [
    "asset_projection['output'] = asset_projection.sum(axis = 1)\n",
    "asset_projection['date'] = indexData.sort_values(by='date').reset_index(drop=True)['date']"
   ]
  },
  {
   "cell_type": "code",
   "execution_count": 14,
   "metadata": {},
   "outputs": [],
   "source": [
    "if benchmark != 'None':\n",
    "    scaling_factor = initial_amount / indexData.sort_values(by='date').reset_index(drop=True)['benchmark'][0]\n",
    "    asset_projection['benchmark'] = indexData.sort_values(by='date').reset_index(drop=True)['benchmark'] * scaling_factor"
   ]
  },
  {
   "cell_type": "code",
   "execution_count": 15,
   "metadata": {
    "scrolled": true
   },
   "outputs": [],
   "source": [
    "output_field = ['date','output']\n",
    "\n",
    "if benchmark != 'None':\n",
    "    output_field = output_field +['benchmark']\n",
    "\n",
    "output_json = asset_projection[output_field].to_json(orient='records')"
   ]
  },
  {
   "cell_type": "code",
   "execution_count": 21,
   "metadata": {},
   "outputs": [],
   "source": [
    "#Calculate some metrics:\n",
    "start_end_ratio =  asset_projection['output'][len(asset_projection)-1] / asset_projection['output'][0]\n",
    "no_years = (end_date - start_date).days / 365\n",
    "caGrowthRate = (start_end_ratio) ** (1/no_years) - 1\n",
    "\n",
    "asset_projection['outputreturn'] = (asset_projection['output'] - asset_projection['output'].shift(1))/asset_projection['output'].shift(1)\n",
    "meansubtracted_values = asset_projection['outputreturn'] - asset_projection['outputreturn'].mean()\n",
    "meansubtracted_squared_sum = (meansubtracted_values**2).sum()\n",
    "variance = meansubtracted_squared_sum / (len(asset_projection['outputreturn'])-1)\n",
    "stddev = variance ** (1/2)\n"
   ]
  },
  {
   "cell_type": "code",
   "execution_count": 20,
   "metadata": {},
   "outputs": [
    {
     "output_type": "execute_result",
     "data": {
      "text/plain": "1461"
     },
     "metadata": {},
     "execution_count": 20
    }
   ],
   "source": []
  },
  {
   "cell_type": "code",
   "execution_count": 17,
   "metadata": {},
   "outputs": [
    {
     "output_type": "execute_result",
     "data": {
      "text/plain": "datetime.datetime(2016, 3, 13, 0, 0)"
     },
     "metadata": {},
     "execution_count": 17
    }
   ],
   "source": []
  },
  {
   "cell_type": "code",
   "execution_count": null,
   "metadata": {},
   "outputs": [],
   "source": [
    "num_years = end_date.year - start_date.year + 1\n",
    "list_years = [start_date.year]\n",
    "for x in range(1,num_years):\n",
    "    new_year = start_date.year + x\n",
    "    list_years.append(new_year)\n",
    "\n",
    "annual_return_list = []\n",
    "for y in range(0,len(list_years)):\n",
    "    CurrentYearIndex = asset_projection[asset_projection['date'].str.contains(str(list_years[y]))].reset_index(drop = True)['output']\n",
    "    annual_return = (CurrentYearIndex[len(CurrentYearIndex)-1]  - CurrentYearIndex[0]) / CurrentYearIndex[0]\n",
    "    annual_return_list.append(annual_return)\n",
    "\n",
    "anuualreturns_df = pd.DataFrame({\n",
    "    'year':list_years,\n",
    "    'annual_return': annual_return_list\n",
    "})"
   ]
  },
  {
   "cell_type": "code",
   "execution_count": null,
   "metadata": {},
   "outputs": [],
   "source": [
    "short_asset_projection = asset_projection[['date','output']]\n",
    "previous_max = [] \n",
    "for x in range(0,len(short_asset_projection)):\n",
    "    previous_max.append(max(short_asset_projection[short_asset_projection['date'] <= short_asset_projection['date'][x]]['output']))\n",
    "\n",
    "asset_projection['previous_max'] = previous_max\n",
    "\n",
    "asset_projection['drawdown'] = asset_projection['output'] - asset_projection['previous_max']\n",
    "asset_projection['drawdown_pct'] = asset_projection['drawdown'] / asset_projection['previous_max']"
   ]
  },
  {
   "cell_type": "code",
   "execution_count": null,
   "metadata": {},
   "outputs": [],
   "source": [
    "json_output ={\n",
    "\n",
    "}\n",
    "\n",
    "json_output['backtest'] = json.loads(asset_projection[output_field].to_json(orient='records'))\n",
    "json_output['metrics'] = {\n",
    "\n",
    "}\n",
    "json_output['metrics']['CAGR'] = caGrowthRate\n",
    "json_output['metrics']['stddev'] = stddev\n",
    "json_output['metrics']['variance'] = variance\n",
    "json_output['metrics']['Annual Returns'] = json.loads(anuualreturns_df.to_json(orient='records'))"
   ]
  }
 ],
 "metadata": {
  "kernelspec": {
   "display_name": "Python 3.7.7 64-bit ('env': venv)",
   "language": "python",
   "name": "python37764bitenvvenv179f5f4be9b143b29d512be65a0827f5"
  },
  "language_info": {
   "codemirror_mode": {
    "name": "ipython",
    "version": 3
   },
   "file_extension": ".py",
   "mimetype": "text/x-python",
   "name": "python",
   "nbconvert_exporter": "python",
   "pygments_lexer": "ipython3",
   "version": "3.7.7-final"
  }
 },
 "nbformat": 4,
 "nbformat_minor": 4
}