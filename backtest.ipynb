{
 "cells": [
  {
   "cell_type": "code",
   "execution_count": 1,
   "metadata": {},
   "outputs": [],
   "source": [
    "import requests\n",
    "import pandas as pd\n",
    "from datetime import datetime\n",
    "from dateutil.relativedelta import relativedelta\n",
    "import math"
   ]
  },
  {
   "cell_type": "code",
   "execution_count": 2,
   "metadata": {},
   "outputs": [],
   "source": [
    "json_request = {\n",
    "    'allocation_weights' : [0.3,0.3,0.4],\n",
    "    'codelist' : ['ABAQ','ABQI','ABQX'],\n",
    "    'benchmark': 'None',\n",
    "    'initial_amount' : 10000,\n",
    "    'start_date' : '2019-03-13',\n",
    "    'end_date' : '2020-03-13',\n",
    "    'rebalance' : True,\n",
    "    'rebalance_frequency' : 'Monthly'\n",
    "}"
   ]
  },
  {
   "cell_type": "code",
   "execution_count": 3,
   "metadata": {},
   "outputs": [],
   "source": [
    "# Backtesting Portfolio\n",
    "\n",
    "# Define portfolio, start_date, end_date\n",
    "\n",
    "allocation_weights = json_request['allocation_weights']\n",
    "initial_amount = json_request['initial_amount']\n",
    "start_date = json_request['start_date']\n",
    "end_date = json_request['end_date']\n",
    "codelist = json_request['codelist']\n",
    "benchmark = json_request['benchmark']\n",
    "\n",
    "rebalance = json_request['rebalance']\n",
    "rebalance_frequency = json_request['rebalance_frequency']\n",
    "\n",
    "with open('data/key.txt', 'r') as file:\n",
    "    api_key = file.read()"
   ]
  },
  {
   "cell_type": "code",
   "execution_count": 4,
   "metadata": {},
   "outputs": [],
   "source": [
    "indexdata = pd.DataFrame()\n",
    "\n",
    "quandl_code = codelist\n",
    "if benchmark != 'None':\n",
    "    quandl_code = codelist + [benchmark]\n",
    "\n",
    "for x in range(0,len(quandl_code)):\n",
    "    quandl_request = (\n",
    "    'https://www.quandl.com/api/v3/datasets/NASDAQOMX/'\n",
    "    f'{quandl_code[x]}?start_date={start_date}&end_date={end_date}&api_key={api_key}'\n",
    "    )\n",
    "    \n",
    "    response = requests.get(quandl_request).json()\n",
    "    \n",
    "    response_df = pd.DataFrame(response['dataset']['data'])\n",
    "    response_df = response_df[[0,1]]\n",
    "    if x == len(quandl_code)-1:\n",
    "        response_df.columns = ['date','benchmark']\n",
    "    else:\n",
    "        response_df.columns = ['date',quandl_code[x]]\n",
    "    \n",
    "    if x == 0:\n",
    "        indexdata = indexdata.append(response_df)\n",
    "    else:\n",
    "        indexdata = pd.merge(indexdata,response_df)"
   ]
  },
  {
   "cell_type": "code",
   "execution_count": 5,
   "metadata": {},
   "outputs": [],
   "source": [
    "month_frequency = {\n",
    "    'Yearly': 12,\n",
    "    'Quarterly': 3,\n",
    "    'Monthly': 1\n",
    "}"
   ]
  },
  {
   "cell_type": "code",
   "execution_count": 6,
   "metadata": {},
   "outputs": [],
   "source": [
    "end_date = datetime.strptime(end_date,'%Y-%m-%d')\n",
    "start_date = datetime.strptime(start_date,'%Y-%m-%d')\n",
    "num_months = (end_date.year - start_date.year) * 12 + (end_date.month - start_date.month)\n",
    "if (end_date.day < start_date.day):\n",
    "    num_months = num_months - 1"
   ]
  },
  {
   "cell_type": "code",
   "execution_count": 7,
   "metadata": {},
   "outputs": [],
   "source": [
    "event_count = int(math.floor(num_months / month_frequency[rebalance_frequency]))\n",
    "\n",
    "rebalance_list =[start_date.strftime(\"%Y-%m-%d\")]\n",
    "rebalance_date = start_date\n",
    "for x in range(0,event_count):\n",
    "    rebalance_date = rebalance_date + relativedelta(months=+month_frequency[rebalance_frequency])\n",
    "    rebalance_list.append(rebalance_date.strftime(\"%Y-%m-%d\"))"
   ]
  },
  {
   "cell_type": "code",
   "execution_count": 8,
   "metadata": {},
   "outputs": [],
   "source": [
    "asset_projection = []\n",
    "\n",
    "asset_value = [x * initial_amount for x in allocation_weights]"
   ]
  },
  {
   "cell_type": "code",
   "execution_count": 9,
   "metadata": {},
   "outputs": [
    {
     "output_type": "execute_result",
     "data": {
      "text/plain": "           date    ABAQ     ABQI  benchmark\n0    2020-03-13  245.78  1704.43    2137.43\n1    2020-03-12  224.39  1554.21    1948.21\n2    2020-03-11  245.22  1694.39    2122.16\n3    2020-03-10  261.19  1807.17    2263.39\n4    2020-03-09  250.82  1731.57    2168.70\n..          ...     ...      ...        ...\n249  2019-03-19  332.06  2315.03    2828.16\n250  2019-03-18  340.11  2374.76    2901.14\n251  2019-03-15  336.45  2346.99    2867.17\n252  2019-03-14  336.27  2346.24    2866.13\n253  2019-03-13  336.02  2345.01    2862.97\n\n[254 rows x 4 columns]",
      "text/html": "<div>\n<style scoped>\n    .dataframe tbody tr th:only-of-type {\n        vertical-align: middle;\n    }\n\n    .dataframe tbody tr th {\n        vertical-align: top;\n    }\n\n    .dataframe thead th {\n        text-align: right;\n    }\n</style>\n<table border=\"1\" class=\"dataframe\">\n  <thead>\n    <tr style=\"text-align: right;\">\n      <th></th>\n      <th>date</th>\n      <th>ABAQ</th>\n      <th>ABQI</th>\n      <th>benchmark</th>\n    </tr>\n  </thead>\n  <tbody>\n    <tr>\n      <th>0</th>\n      <td>2020-03-13</td>\n      <td>245.78</td>\n      <td>1704.43</td>\n      <td>2137.43</td>\n    </tr>\n    <tr>\n      <th>1</th>\n      <td>2020-03-12</td>\n      <td>224.39</td>\n      <td>1554.21</td>\n      <td>1948.21</td>\n    </tr>\n    <tr>\n      <th>2</th>\n      <td>2020-03-11</td>\n      <td>245.22</td>\n      <td>1694.39</td>\n      <td>2122.16</td>\n    </tr>\n    <tr>\n      <th>3</th>\n      <td>2020-03-10</td>\n      <td>261.19</td>\n      <td>1807.17</td>\n      <td>2263.39</td>\n    </tr>\n    <tr>\n      <th>4</th>\n      <td>2020-03-09</td>\n      <td>250.82</td>\n      <td>1731.57</td>\n      <td>2168.70</td>\n    </tr>\n    <tr>\n      <th>...</th>\n      <td>...</td>\n      <td>...</td>\n      <td>...</td>\n      <td>...</td>\n    </tr>\n    <tr>\n      <th>249</th>\n      <td>2019-03-19</td>\n      <td>332.06</td>\n      <td>2315.03</td>\n      <td>2828.16</td>\n    </tr>\n    <tr>\n      <th>250</th>\n      <td>2019-03-18</td>\n      <td>340.11</td>\n      <td>2374.76</td>\n      <td>2901.14</td>\n    </tr>\n    <tr>\n      <th>251</th>\n      <td>2019-03-15</td>\n      <td>336.45</td>\n      <td>2346.99</td>\n      <td>2867.17</td>\n    </tr>\n    <tr>\n      <th>252</th>\n      <td>2019-03-14</td>\n      <td>336.27</td>\n      <td>2346.24</td>\n      <td>2866.13</td>\n    </tr>\n    <tr>\n      <th>253</th>\n      <td>2019-03-13</td>\n      <td>336.02</td>\n      <td>2345.01</td>\n      <td>2862.97</td>\n    </tr>\n  </tbody>\n</table>\n<p>254 rows × 4 columns</p>\n</div>"
     },
     "metadata": {},
     "execution_count": 9
    }
   ],
   "source": [
    "indexdata"
   ]
  },
  {
   "cell_type": "code",
   "execution_count": 10,
   "metadata": {},
   "outputs": [],
   "source": [
    "for x in range(0,len(rebalance_list)-1):\n",
    "    asset_value = [x * initial_amount for x in allocation_weights]\n",
    "    \n",
    "    index_subset = indexdata[indexdata['date'] >= rebalance_list[0+x]][indexdata['date'] < rebalance_list[1+x]]\n",
    "    index_subset = index_subset.sort_values(by='date').reset_index(drop=True)\n",
    "\n",
    "    allocation = pd.DataFrame()\n",
    "\n",
    "    for i in range(0,len(allocation_weights)):\n",
    "        indexcode = index_subset.columns[i+1]\n",
    "        scaling_factor = asset_value[i] / index_subset[indexcode][0]\n",
    "        allocation[f'allocation {i}'] = index_subset[indexcode] * scaling_factor\n",
    "    \n",
    "    asset_projection.append(allocation)\n",
    "    \n",
    "    asset_value = allocation.iloc[len(allocation)-1].sum()"
   ]
  },
  {
   "cell_type": "code",
   "execution_count": 11,
   "metadata": {},
   "outputs": [],
   "source": [
    "asset_projection = pd.concat(asset_projection).reset_index(drop=True)"
   ]
  },
  {
   "cell_type": "code",
   "execution_count": 12,
   "metadata": {},
   "outputs": [],
   "source": [
    "asset_projection['output'] = asset_projection.sum(axis = 1)\n",
    "asset_projection['date'] = indexdata['date']"
   ]
  },
  {
   "cell_type": "code",
   "execution_count": 13,
   "metadata": {},
   "outputs": [],
   "source": [
    "if benchmark != 'None':\n",
    "    scaling_factor = initial_amount / indexdata.sort_values(by='date').reset_index(drop=True)['benchmark'][0]\n",
    "    asset_projection['benchmark'] = indexdata.sort_values(by='date').reset_index(drop=True)['benchmark'] * scaling_factor"
   ]
  },
  {
   "cell_type": "code",
   "execution_count": 15,
   "metadata": {
    "scrolled": true
   },
   "outputs": [
    {
     "output_type": "execute_result",
     "data": {
      "text/plain": "'{\"0\":{\"date\":\"2020-03-13\",\"output\":10000.0},\"1\":{\"date\":\"2020-03-12\",\"output\":10008.2205596732},\"2\":{\"date\":\"2020-03-11\",\"output\":10012.2401275861},\"3\":{\"date\":\"2020-03-10\",\"output\":10127.9044578072},\"4\":{\"date\":\"2020-03-09\",\"output\":9877.6563712957},\"5\":{\"date\":\"2020-03-06\",\"output\":9610.7443438134},\"6\":{\"date\":\"2020-03-05\",\"output\":9533.3195633008},\"7\":{\"date\":\"2020-03-04\",\"output\":9122.2873250952},\"8\":{\"date\":\"2020-03-03\",\"output\":9174.2205020346},\"9\":{\"date\":\"2020-03-02\",\"output\":9420.5941105213},\"10\":{\"date\":\"2020-02-28\",\"output\":9442.5764114239},\"11\":{\"date\":\"2020-02-27\",\"output\":9555.5302640863},\"12\":{\"date\":\"2020-02-26\",\"output\":9519.517084959},\"13\":{\"date\":\"2020-02-25\",\"output\":9744.1714436799},\"14\":{\"date\":\"2020-02-24\",\"output\":9708.6112972842},\"15\":{\"date\":\"2020-02-21\",\"output\":9730.9963732098},\"16\":{\"date\":\"2020-02-20\",\"output\":9860.0945262139},\"17\":{\"date\":\"2020-02-19\",\"output\":9922.4133346091},\"18\":{\"date\":\"2020-02-18\",\"output\":9917.0968810837},\"19\":{\"date\":\"2020-02-14\",\"output\":9754.8460248545},\"20\":{\"date\":\"2020-02-13\",\"output\":9870.0332546158},\"21\":{\"date\":\"2020-02-12\",\"output\":9885.276364257},\"22\":{\"date\":\"2020-02-11\",\"output\":10043.8316414359},\"23\":{\"date\":\"2020-02-10\",\"output\":10000.0},\"24\":{\"date\":\"2020-02-07\",\"output\":10172.4284905669},\"25\":{\"date\":\"2020-02-06\",\"output\":10173.0863121016},\"26\":{\"date\":\"2020-02-05\",\"output\":10056.5422925047},\"27\":{\"date\":\"2020-02-04\",\"output\":9931.6080795696},\"28\":{\"date\":\"2020-02-03\",\"output\":10132.0796087236},\"29\":{\"date\":\"2020-01-31\",\"output\":10130.5451895884},\"30\":{\"date\":\"2020-01-30\",\"output\":10076.257164851},\"31\":{\"date\":\"2020-01-29\",\"output\":10199.7888496576},\"32\":{\"date\":\"2020-01-28\",\"output\":10326.384234152},\"33\":{\"date\":\"2020-01-27\",\"output\":10252.1206566941},\"34\":{\"date\":\"2020-01-24\",\"output\":10156.143208688},\"35\":{\"date\":\"2020-01-23\",\"output\":10266.7539384165},\"36\":{\"date\":\"2020-01-22\",\"output\":10455.3641172398},\"37\":{\"date\":\"2020-01-21\",\"output\":10445.6925397318},\"38\":{\"date\":\"2020-01-17\",\"output\":10287.7665464553},\"39\":{\"date\":\"2020-01-16\",\"output\":10203.4820963271},\"40\":{\"date\":\"2020-01-15\",\"output\":10191.370965129},\"41\":{\"date\":\"2020-01-14\",\"output\":10225.1524084298},\"42\":{\"date\":\"2020-01-13\",\"output\":10000.0},\"43\":{\"date\":\"2020-01-10\",\"output\":10173.5978937209},\"44\":{\"date\":\"2020-01-09\",\"output\":10066.8912031544},\"45\":{\"date\":\"2020-01-08\",\"output\":10169.0850299921},\"46\":{\"date\":\"2020-01-07\",\"output\":10078.4966929935},\"47\":{\"date\":\"2020-01-06\",\"output\":10123.9749459631},\"48\":{\"date\":\"2020-01-03\",\"output\":10185.120912295},\"49\":{\"date\":\"2020-01-02\",\"output\":10067.4768492672},\"50\":{\"date\":\"2019-12-31\",\"output\":9831.9040199269},\"51\":{\"date\":\"2019-12-30\",\"output\":9976.9843300354},\"52\":{\"date\":\"2019-12-27\",\"output\":9857.5213606648},\"53\":{\"date\":\"2019-12-26\",\"output\":9903.4722681256},\"54\":{\"date\":\"2019-12-24\",\"output\":9739.4480221008},\"55\":{\"date\":\"2019-12-23\",\"output\":9577.041606463},\"56\":{\"date\":\"2019-12-20\",\"output\":9665.3507160913},\"57\":{\"date\":\"2019-12-19\",\"output\":9950.8788263027},\"58\":{\"date\":\"2019-12-18\",\"output\":9880.6113920331},\"59\":{\"date\":\"2019-12-17\",\"output\":9848.3879569328},\"60\":{\"date\":\"2019-12-16\",\"output\":9807.4636945784},\"61\":{\"date\":\"2019-12-13\",\"output\":9904.0017524679},\"62\":{\"date\":\"2019-12-12\",\"output\":9924.0897883227},\"63\":{\"date\":\"2019-12-11\",\"output\":9894.2001555752},\"64\":{\"date\":\"2019-12-10\",\"output\":10000.0},\"65\":{\"date\":\"2019-12-09\",\"output\":10018.2055662401},\"66\":{\"date\":\"2019-12-06\",\"output\":9921.4146065869},\"67\":{\"date\":\"2019-12-05\",\"output\":10077.7779648204},\"68\":{\"date\":\"2019-12-04\",\"output\":10034.2789523325},\"69\":{\"date\":\"2019-12-03\",\"output\":10033.3347703485},\"70\":{\"date\":\"2019-12-02\",\"output\":9980.904616677},\"71\":{\"date\":\"2019-11-29\",\"output\":9881.2295349422},\"72\":{\"date\":\"2019-11-27\",\"output\":9901.0953382465},\"73\":{\"date\":\"2019-11-26\",\"output\":9920.9599678746},\"74\":{\"date\":\"2019-11-25\",\"output\":10093.6853699107},\"75\":{\"date\":\"2019-11-22\",\"output\":10234.8853238649},\"76\":{\"date\":\"2019-11-21\",\"output\":10270.6944715797},\"77\":{\"date\":\"2019-11-20\",\"output\":10152.2298090797},\"78\":{\"date\":\"2019-11-19\",\"output\":10224.9959329824},\"79\":{\"date\":\"2019-11-18\",\"output\":10343.3332086103},\"80\":{\"date\":\"2019-11-15\",\"output\":10195.7452843431},\"81\":{\"date\":\"2019-11-14\",\"output\":10230.1080807119},\"82\":{\"date\":\"2019-11-13\",\"output\":10127.3017320586},\"83\":{\"date\":\"2019-11-12\",\"output\":10181.3821112356},\"84\":{\"date\":\"2019-11-11\",\"output\":10275.136156892},\"85\":{\"date\":\"2019-11-08\",\"output\":10000.0},\"86\":{\"date\":\"2019-11-07\",\"output\":10004.3323374316},\"87\":{\"date\":\"2019-11-06\",\"output\":9947.5840599581},\"88\":{\"date\":\"2019-11-05\",\"output\":10026.224911798},\"89\":{\"date\":\"2019-11-04\",\"output\":10057.4612132992},\"90\":{\"date\":\"2019-11-01\",\"output\":9997.4601501741},\"91\":{\"date\":\"2019-10-31\",\"output\":10097.1844759362},\"92\":{\"date\":\"2019-10-30\",\"output\":10345.6808541553},\"93\":{\"date\":\"2019-10-29\",\"output\":10270.6559120311},\"94\":{\"date\":\"2019-10-28\",\"output\":10451.6050159985},\"95\":{\"date\":\"2019-10-25\",\"output\":10335.2850781946},\"96\":{\"date\":\"2019-10-24\",\"output\":10465.6715217055},\"97\":{\"date\":\"2019-10-23\",\"output\":10434.0627031731},\"98\":{\"date\":\"2019-10-22\",\"output\":10095.3436537488},\"99\":{\"date\":\"2019-10-21\",\"output\":9992.19870936},\"100\":{\"date\":\"2019-10-18\",\"output\":9717.9629955007},\"101\":{\"date\":\"2019-10-17\",\"output\":9788.0330903424},\"102\":{\"date\":\"2019-10-16\",\"output\":9712.2687819273},\"103\":{\"date\":\"2019-10-15\",\"output\":9902.973562755},\"104\":{\"date\":\"2019-10-14\",\"output\":9869.1918749793},\"105\":{\"date\":\"2019-10-11\",\"output\":9729.0673247318},\"106\":{\"date\":\"2019-10-10\",\"output\":10000.0},\"107\":{\"date\":\"2019-10-09\",\"output\":9727.7309924652},\"108\":{\"date\":\"2019-10-08\",\"output\":9658.3306398418},\"109\":{\"date\":\"2019-10-07\",\"output\":9908.8497928946},\"110\":{\"date\":\"2019-10-04\",\"output\":9999.7017596021},\"111\":{\"date\":\"2019-10-03\",\"output\":9874.0932968168},\"112\":{\"date\":\"2019-10-02\",\"output\":9932.3124713711},\"113\":{\"date\":\"2019-10-01\",\"output\":9934.1117578192},\"114\":{\"date\":\"2019-09-30\",\"output\":9613.8302923124},\"115\":{\"date\":\"2019-09-27\",\"output\":9736.0515491159},\"116\":{\"date\":\"2019-09-26\",\"output\":9536.8180831805},\"117\":{\"date\":\"2019-09-25\",\"output\":9659.704535969},\"118\":{\"date\":\"2019-09-24\",\"output\":9825.8749155688},\"119\":{\"date\":\"2019-09-23\",\"output\":9830.223707792},\"120\":{\"date\":\"2019-09-20\",\"output\":9633.347339778},\"121\":{\"date\":\"2019-09-19\",\"output\":9679.2474653357},\"122\":{\"date\":\"2019-09-18\",\"output\":9892.9632544243},\"123\":{\"date\":\"2019-09-17\",\"output\":9830.7493203309},\"124\":{\"date\":\"2019-09-16\",\"output\":10126.2305189848},\"125\":{\"date\":\"2019-09-13\",\"output\":10293.9701924946},\"126\":{\"date\":\"2019-09-12\",\"output\":10478.4005913112},\"127\":{\"date\":\"2019-09-11\",\"output\":10521.7477495072},\"128\":{\"date\":\"2019-09-10\",\"output\":10000.0},\"129\":{\"date\":\"2019-09-09\",\"output\":9986.1666990867},\"130\":{\"date\":\"2019-09-06\",\"output\":9902.5323062035},\"131\":{\"date\":\"2019-09-05\",\"output\":9933.0495053163},\"132\":{\"date\":\"2019-09-04\",\"output\":9864.6675807354},\"133\":{\"date\":\"2019-09-03\",\"output\":9857.3994464713},\"134\":{\"date\":\"2019-08-30\",\"output\":9854.6596022126},\"135\":{\"date\":\"2019-08-29\",\"output\":9707.8122571083},\"136\":{\"date\":\"2019-08-28\",\"output\":9888.1971221583},\"137\":{\"date\":\"2019-08-27\",\"output\":9738.1893203642},\"138\":{\"date\":\"2019-08-26\",\"output\":9771.4870566712},\"139\":{\"date\":\"2019-08-23\",\"output\":9728.6553194374},\"140\":{\"date\":\"2019-08-22\",\"output\":9539.8532765901},\"141\":{\"date\":\"2019-08-21\",\"output\":9483.5377664789},\"142\":{\"date\":\"2019-08-20\",\"output\":9473.7507326793},\"143\":{\"date\":\"2019-08-19\",\"output\":9566.6902018089},\"144\":{\"date\":\"2019-08-16\",\"output\":9556.6003673414},\"145\":{\"date\":\"2019-08-15\",\"output\":9367.7164849276},\"146\":{\"date\":\"2019-08-14\",\"output\":9423.1065159825},\"147\":{\"date\":\"2019-08-13\",\"output\":9487.7147848057},\"148\":{\"date\":\"2019-08-12\",\"output\":9631.4240656312},\"149\":{\"date\":\"2019-08-09\",\"output\":10000.0},\"150\":{\"date\":\"2019-08-08\",\"output\":10122.0620249156},\"151\":{\"date\":\"2019-08-07\",\"output\":10115.2998951237},\"152\":{\"date\":\"2019-08-06\",\"output\":10172.6034828077},\"153\":{\"date\":\"2019-08-05\",\"output\":10235.3684376651},\"154\":{\"date\":\"2019-08-02\",\"output\":10373.2436812105},\"155\":{\"date\":\"2019-08-01\",\"output\":10427.6095822325},\"156\":{\"date\":\"2019-07-31\",\"output\":10439.534499438},\"157\":{\"date\":\"2019-07-30\",\"output\":10366.9220784974},\"158\":{\"date\":\"2019-07-29\",\"output\":10417.2608585866},\"159\":{\"date\":\"2019-07-26\",\"output\":10523.6642132022},\"160\":{\"date\":\"2019-07-25\",\"output\":10601.205395894},\"161\":{\"date\":\"2019-07-24\",\"output\":10549.3018726994},\"162\":{\"date\":\"2019-07-23\",\"output\":10404.8466581336},\"163\":{\"date\":\"2019-07-22\",\"output\":10572.3435119197},\"164\":{\"date\":\"2019-07-19\",\"output\":10705.4263016056},\"165\":{\"date\":\"2019-07-18\",\"output\":10776.4331267487},\"166\":{\"date\":\"2019-07-17\",\"output\":10732.7026341032},\"167\":{\"date\":\"2019-07-16\",\"output\":10787.6053887794},\"168\":{\"date\":\"2019-07-15\",\"output\":10779.5573949009},\"169\":{\"date\":\"2019-07-12\",\"output\":10752.6361549994},\"170\":{\"date\":\"2019-07-11\",\"output\":10771.8590853753},\"171\":{\"date\":\"2019-07-10\",\"output\":10000.0},\"172\":{\"date\":\"2019-07-09\",\"output\":9987.9885822159},\"173\":{\"date\":\"2019-07-08\",\"output\":9971.4827216805},\"174\":{\"date\":\"2019-07-05\",\"output\":9928.2180358396},\"175\":{\"date\":\"2019-07-03\",\"output\":9980.5579586733},\"176\":{\"date\":\"2019-07-02\",\"output\":9928.7952770792},\"177\":{\"date\":\"2019-07-01\",\"output\":9916.0546864984},\"178\":{\"date\":\"2019-06-28\",\"output\":9943.1478837004},\"179\":{\"date\":\"2019-06-27\",\"output\":10061.645535778},\"180\":{\"date\":\"2019-06-26\",\"output\":10024.8591883495},\"181\":{\"date\":\"2019-06-25\",\"output\":10080.8427407385},\"182\":{\"date\":\"2019-06-24\",\"output\":10021.2950238664},\"183\":{\"date\":\"2019-06-21\",\"output\":9952.5606328439},\"184\":{\"date\":\"2019-06-20\",\"output\":9847.2467671237},\"185\":{\"date\":\"2019-06-19\",\"output\":9940.52465364},\"186\":{\"date\":\"2019-06-18\",\"output\":9978.6720569452},\"187\":{\"date\":\"2019-06-17\",\"output\":10073.3135749131},\"188\":{\"date\":\"2019-06-14\",\"output\":10064.5756662126},\"189\":{\"date\":\"2019-06-13\",\"output\":10093.1751822758},\"190\":{\"date\":\"2019-06-12\",\"output\":10088.3421552662},\"191\":{\"date\":\"2019-06-11\",\"output\":10301.0269459138},\"192\":{\"date\":\"2019-06-10\",\"output\":10000.0},\"193\":{\"date\":\"2019-06-07\",\"output\":10100.5612673149},\"194\":{\"date\":\"2019-06-06\",\"output\":10194.3229149944},\"195\":{\"date\":\"2019-06-05\",\"output\":10165.1935145694},\"196\":{\"date\":\"2019-06-04\",\"output\":10175.3623096601},\"197\":{\"date\":\"2019-06-03\",\"output\":10184.3369886081},\"198\":{\"date\":\"2019-05-31\",\"output\":10115.0291834293},\"199\":{\"date\":\"2019-05-30\",\"output\":10125.3037065347},\"200\":{\"date\":\"2019-05-29\",\"output\":10121.0951837935},\"201\":{\"date\":\"2019-05-28\",\"output\":10071.2145565875},\"202\":{\"date\":\"2019-05-24\",\"output\":10081.2144479314},\"203\":{\"date\":\"2019-05-23\",\"output\":10075.7150742256},\"204\":{\"date\":\"2019-05-22\",\"output\":10071.1842251835},\"205\":{\"date\":\"2019-05-21\",\"output\":10018.1080039095},\"206\":{\"date\":\"2019-05-20\",\"output\":9957.4583860781},\"207\":{\"date\":\"2019-05-17\",\"output\":9868.8922647826},\"208\":{\"date\":\"2019-05-16\",\"output\":9937.4431781689},\"209\":{\"date\":\"2019-05-15\",\"output\":9936.3100639298},\"210\":{\"date\":\"2019-05-14\",\"output\":9867.043491736},\"211\":{\"date\":\"2019-05-13\",\"output\":10000.0},\"212\":{\"date\":\"2019-05-10\",\"output\":9986.5250866963},\"213\":{\"date\":\"2019-05-09\",\"output\":9925.1576439633},\"214\":{\"date\":\"2019-05-08\",\"output\":10061.9934300412},\"215\":{\"date\":\"2019-05-07\",\"output\":10040.437428754},\"216\":{\"date\":\"2019-05-06\",\"output\":9896.5540759522},\"217\":{\"date\":\"2019-05-03\",\"output\":9886.6744765394},\"218\":{\"date\":\"2019-05-02\",\"output\":9888.5177076623},\"219\":{\"date\":\"2019-05-01\",\"output\":9769.1720943269},\"220\":{\"date\":\"2019-04-30\",\"output\":9664.1497227799},\"221\":{\"date\":\"2019-04-29\",\"output\":9679.734053165},\"222\":{\"date\":\"2019-04-26\",\"output\":9571.0346272198},\"223\":{\"date\":\"2019-04-25\",\"output\":9682.3345636745},\"224\":{\"date\":\"2019-04-24\",\"output\":9493.6395274825},\"225\":{\"date\":\"2019-04-23\",\"output\":9613.3455941377},\"226\":{\"date\":\"2019-04-22\",\"output\":9705.9491493738},\"227\":{\"date\":\"2019-04-18\",\"output\":9896.8798998941},\"228\":{\"date\":\"2019-04-17\",\"output\":9808.4332295296},\"229\":{\"date\":\"2019-04-16\",\"output\":9706.6097154684},\"230\":{\"date\":\"2019-04-15\",\"output\":9720.2299382549},\"231\":{\"date\":\"2019-04-12\",\"output\":9753.5601505919},\"232\":{\"date\":\"2019-04-11\",\"output\":9773.5295877065},\"233\":{\"date\":\"2019-04-10\",\"output\":10000.0},\"234\":{\"date\":\"2019-04-09\",\"output\":9932.3093822891},\"235\":{\"date\":\"2019-04-08\",\"output\":9839.2592962075},\"236\":{\"date\":\"2019-04-05\",\"output\":9852.7792554622},\"237\":{\"date\":\"2019-04-04\",\"output\":9924.9843899874},\"238\":{\"date\":\"2019-04-03\",\"output\":9839.7720076799},\"239\":{\"date\":\"2019-04-02\",\"output\":9596.0755943156},\"240\":{\"date\":\"2019-04-01\",\"output\":9303.7324521719},\"241\":{\"date\":\"2019-03-29\",\"output\":9223.3937833747},\"242\":{\"date\":\"2019-03-28\",\"output\":8906.7296611539},\"243\":{\"date\":\"2019-03-27\",\"output\":8591.013584106},\"244\":{\"date\":\"2019-03-26\",\"output\":8968.5814729936},\"245\":{\"date\":\"2019-03-25\",\"output\":8702.0597798315},\"246\":{\"date\":\"2019-03-22\",\"output\":8853.5529108763},\"247\":{\"date\":\"2019-03-21\",\"output\":8467.4171487588},\"248\":{\"date\":\"2019-03-20\",\"output\":8230.9393210654},\"249\":{\"date\":\"2019-03-19\",\"output\":7157.2416144795},\"250\":{\"date\":\"2019-03-18\",\"output\":7464.7430961256},\"251\":{\"date\":\"2019-03-15\",\"output\":7001.7546841259},\"252\":{\"date\":\"2019-03-14\",\"output\":6419.9639131628}}'"
     },
     "metadata": {},
     "execution_count": 15
    }
   ],
   "source": [
    "output_field = ['date','output']\n",
    "\n",
    "if benchmark != 'None':\n",
    "    output_field = output_field +['benchmark']\n",
    "\n",
    "asset_projection[['date','output']].to_json(orient='index')"
   ]
  },
  {
   "cell_type": "code",
   "execution_count": 16,
   "metadata": {},
   "outputs": [
    {
     "output_type": "execute_result",
     "data": {
      "text/plain": "     allocation 0  allocation 1  allocation 2        output        date\n0     3000.000000   3000.000000   4000.000000  10000.000000  2020-03-13\n1     3002.232010   3001.573554   4004.414996  10008.220560  2020-03-12\n2     3003.839057   3002.533038   4005.868032  10012.240128  2020-03-11\n3     3036.515684   3038.059539   4053.329235  10127.904458  2020-03-10\n4     2964.644962   2961.646219   3951.365191   9877.656371  2020-03-09\n..            ...           ...           ...           ...         ...\n248   2474.443776   2464.992415   3291.503130   8230.939321  2019-03-20\n249   2154.625891   2141.477310   2861.138413   7157.241614  2019-03-19\n250   2243.707585   2234.973781   2986.061729   7464.743096  2019-03-18\n251   2106.520058   2095.495845   2799.738781   7001.754684  2019-03-15\n252   1927.583541   1922.131621   2570.248752   6419.963913  2019-03-14\n\n[253 rows x 5 columns]",
      "text/html": "<div>\n<style scoped>\n    .dataframe tbody tr th:only-of-type {\n        vertical-align: middle;\n    }\n\n    .dataframe tbody tr th {\n        vertical-align: top;\n    }\n\n    .dataframe thead th {\n        text-align: right;\n    }\n</style>\n<table border=\"1\" class=\"dataframe\">\n  <thead>\n    <tr style=\"text-align: right;\">\n      <th></th>\n      <th>allocation 0</th>\n      <th>allocation 1</th>\n      <th>allocation 2</th>\n      <th>output</th>\n      <th>date</th>\n    </tr>\n  </thead>\n  <tbody>\n    <tr>\n      <th>0</th>\n      <td>3000.000000</td>\n      <td>3000.000000</td>\n      <td>4000.000000</td>\n      <td>10000.000000</td>\n      <td>2020-03-13</td>\n    </tr>\n    <tr>\n      <th>1</th>\n      <td>3002.232010</td>\n      <td>3001.573554</td>\n      <td>4004.414996</td>\n      <td>10008.220560</td>\n      <td>2020-03-12</td>\n    </tr>\n    <tr>\n      <th>2</th>\n      <td>3003.839057</td>\n      <td>3002.533038</td>\n      <td>4005.868032</td>\n      <td>10012.240128</td>\n      <td>2020-03-11</td>\n    </tr>\n    <tr>\n      <th>3</th>\n      <td>3036.515684</td>\n      <td>3038.059539</td>\n      <td>4053.329235</td>\n      <td>10127.904458</td>\n      <td>2020-03-10</td>\n    </tr>\n    <tr>\n      <th>4</th>\n      <td>2964.644962</td>\n      <td>2961.646219</td>\n      <td>3951.365191</td>\n      <td>9877.656371</td>\n      <td>2020-03-09</td>\n    </tr>\n    <tr>\n      <th>...</th>\n      <td>...</td>\n      <td>...</td>\n      <td>...</td>\n      <td>...</td>\n      <td>...</td>\n    </tr>\n    <tr>\n      <th>248</th>\n      <td>2474.443776</td>\n      <td>2464.992415</td>\n      <td>3291.503130</td>\n      <td>8230.939321</td>\n      <td>2019-03-20</td>\n    </tr>\n    <tr>\n      <th>249</th>\n      <td>2154.625891</td>\n      <td>2141.477310</td>\n      <td>2861.138413</td>\n      <td>7157.241614</td>\n      <td>2019-03-19</td>\n    </tr>\n    <tr>\n      <th>250</th>\n      <td>2243.707585</td>\n      <td>2234.973781</td>\n      <td>2986.061729</td>\n      <td>7464.743096</td>\n      <td>2019-03-18</td>\n    </tr>\n    <tr>\n      <th>251</th>\n      <td>2106.520058</td>\n      <td>2095.495845</td>\n      <td>2799.738781</td>\n      <td>7001.754684</td>\n      <td>2019-03-15</td>\n    </tr>\n    <tr>\n      <th>252</th>\n      <td>1927.583541</td>\n      <td>1922.131621</td>\n      <td>2570.248752</td>\n      <td>6419.963913</td>\n      <td>2019-03-14</td>\n    </tr>\n  </tbody>\n</table>\n<p>253 rows × 5 columns</p>\n</div>"
     },
     "metadata": {},
     "execution_count": 16
    }
   ],
   "source": [
    "asset_projection"
   ]
  },
  {
   "cell_type": "code",
   "execution_count": null,
   "metadata": {},
   "outputs": [],
   "source": []
  }
 ],
 "metadata": {
  "kernelspec": {
   "display_name": "Python 3",
   "language": "python",
   "name": "python3"
  },
  "language_info": {
   "codemirror_mode": {
    "name": "ipython",
    "version": 3
   },
   "file_extension": ".py",
   "mimetype": "text/x-python",
   "name": "python",
   "nbconvert_exporter": "python",
   "pygments_lexer": "ipython3",
   "version": "3.7.7-final"
  }
 },
 "nbformat": 4,
 "nbformat_minor": 4
}