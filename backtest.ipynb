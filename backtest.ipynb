{
 "cells": [
  {
   "cell_type": "code",
   "execution_count": 1,
   "metadata": {},
   "outputs": [],
   "source": [
    "import requests\n",
    "import pandas as pd\n",
    "from datetime import datetime\n",
    "from dateutil.relativedelta import relativedelta\n",
    "import math"
   ]
  },
  {
   "cell_type": "code",
   "execution_count": 2,
   "metadata": {},
   "outputs": [],
   "source": [
    "json_request = {\n",
    "  \"allocation_weights\": [0.3,0.4,0.3],\n",
    "  \"codelist\": [\"ABAQ\",\"ABQI\",\"ABQX\"],\n",
    "  \"benchmark\": \"ABAQ\",\n",
    "  \"initial_amount\": 10000,\n",
    "  \"start_date\": \"2019-03-13\",\n",
    "  \"end_date\": \"2020-03-13\",\n",
    "  \"rebalance\": True,\n",
    "  \"rebalance_frequency\": \"Monthly\"\n",
    "}"
   ]
  },
  {
   "cell_type": "code",
   "execution_count": 3,
   "metadata": {},
   "outputs": [],
   "source": [
    "# Backtesting Portfolio\n",
    "\n",
    "# Define portfolio, start_date, end_date\n",
    "\n",
    "allocation_weights = json_request['allocation_weights']\n",
    "initial_amount = json_request['initial_amount']\n",
    "start_date = json_request['start_date']\n",
    "end_date = json_request['end_date']\n",
    "codelist = json_request['codelist']\n",
    "benchmark = json_request['benchmark']\n",
    "\n",
    "rebalance = json_request['rebalance']\n",
    "rebalance_frequency = json_request['rebalance_frequency']\n",
    "\n",
    "with open('data/key.txt', 'r') as file:\n",
    "    api_key = file.read()"
   ]
  },
  {
   "cell_type": "code",
   "execution_count": 4,
   "metadata": {},
   "outputs": [],
   "source": [
    "indexdata = pd.DataFrame()\n",
    "\n",
    "quandl_code = codelist\n",
    "if benchmark != 'None':\n",
    "    quandl_code = codelist + [benchmark]\n",
    "\n",
    "for x in range(0,len(quandl_code)):\n",
    "    quandl_request = (\n",
    "    'https://www.quandl.com/api/v3/datasets/NASDAQOMX/'\n",
    "    f'{quandl_code[x]}?start_date={start_date}&end_date={end_date}&api_key={api_key}'\n",
    "    )\n",
    "    \n",
    "    response = requests.get(quandl_request).json()\n",
    "    \n",
    "    response_df = pd.DataFrame(response['dataset']['data'])\n",
    "    response_df = response_df[[0,1]]\n",
    "    if x == len(quandl_code)-1:\n",
    "        response_df.columns = ['date','benchmark']\n",
    "    else:\n",
    "        response_df.columns = ['date',quandl_code[x]]\n",
    "    \n",
    "    if x == 0:\n",
    "        indexdata = indexdata.append(response_df)\n",
    "    else:\n",
    "        indexdata = pd.merge(indexdata,response_df)"
   ]
  },
  {
   "cell_type": "code",
   "execution_count": 5,
   "metadata": {},
   "outputs": [],
   "source": [
    "month_frequency = {\n",
    "    'Yearly': 12,\n",
    "    'Quarterly': 3,\n",
    "    'Monthly': 1\n",
    "}"
   ]
  },
  {
   "cell_type": "code",
   "execution_count": 6,
   "metadata": {},
   "outputs": [],
   "source": [
    "end_date = datetime.strptime(end_date,'%Y-%m-%d')\n",
    "start_date = datetime.strptime(start_date,'%Y-%m-%d')\n",
    "num_months = (end_date.year - start_date.year) * 12 + (end_date.month - start_date.month)\n",
    "if (end_date.day < start_date.day):\n",
    "    num_months = num_months - 1"
   ]
  },
  {
   "cell_type": "code",
   "execution_count": 7,
   "metadata": {},
   "outputs": [],
   "source": [
    "event_count = int(math.floor(num_months / month_frequency[rebalance_frequency]))\n",
    "\n",
    "rebalance_list =[start_date.strftime(\"%Y-%m-%d\")]\n",
    "rebalance_date = start_date\n",
    "for x in range(0,event_count):\n",
    "    rebalance_date = rebalance_date + relativedelta(months=+month_frequency[rebalance_frequency])\n",
    "    rebalance_list.append(rebalance_date.strftime(\"%Y-%m-%d\"))"
   ]
  },
  {
   "cell_type": "code",
   "execution_count": 8,
   "metadata": {},
   "outputs": [],
   "source": [
    "asset_projection = []\n",
    "\n",
    "asset_value = [x * initial_amount for x in allocation_weights]"
   ]
  },
  {
   "cell_type": "code",
   "execution_count": 9,
   "metadata": {},
   "outputs": [
    {
     "output_type": "execute_result",
     "data": {
      "text/plain": "           date    ABAQ     ABQI     ABQX  benchmark\n0    2020-03-13  245.78  1704.43  2137.43     245.78\n1    2020-03-12  224.39  1554.21  1948.21     224.39\n2    2020-03-11  245.22  1694.39  2122.16     245.22\n3    2020-03-10  261.19  1807.17  2263.39     261.19\n4    2020-03-09  250.82  1731.57  2168.70     250.82\n..          ...     ...      ...      ...        ...\n249  2019-03-19  332.06  2315.03  2828.16     332.06\n250  2019-03-18  340.11  2374.76  2901.14     340.11\n251  2019-03-15  336.45  2346.99  2867.17     336.45\n252  2019-03-14  336.27  2346.24  2866.13     336.27\n253  2019-03-13  336.02  2345.01  2862.97     336.02\n\n[254 rows x 5 columns]",
      "text/html": "<div>\n<style scoped>\n    .dataframe tbody tr th:only-of-type {\n        vertical-align: middle;\n    }\n\n    .dataframe tbody tr th {\n        vertical-align: top;\n    }\n\n    .dataframe thead th {\n        text-align: right;\n    }\n</style>\n<table border=\"1\" class=\"dataframe\">\n  <thead>\n    <tr style=\"text-align: right;\">\n      <th></th>\n      <th>date</th>\n      <th>ABAQ</th>\n      <th>ABQI</th>\n      <th>ABQX</th>\n      <th>benchmark</th>\n    </tr>\n  </thead>\n  <tbody>\n    <tr>\n      <th>0</th>\n      <td>2020-03-13</td>\n      <td>245.78</td>\n      <td>1704.43</td>\n      <td>2137.43</td>\n      <td>245.78</td>\n    </tr>\n    <tr>\n      <th>1</th>\n      <td>2020-03-12</td>\n      <td>224.39</td>\n      <td>1554.21</td>\n      <td>1948.21</td>\n      <td>224.39</td>\n    </tr>\n    <tr>\n      <th>2</th>\n      <td>2020-03-11</td>\n      <td>245.22</td>\n      <td>1694.39</td>\n      <td>2122.16</td>\n      <td>245.22</td>\n    </tr>\n    <tr>\n      <th>3</th>\n      <td>2020-03-10</td>\n      <td>261.19</td>\n      <td>1807.17</td>\n      <td>2263.39</td>\n      <td>261.19</td>\n    </tr>\n    <tr>\n      <th>4</th>\n      <td>2020-03-09</td>\n      <td>250.82</td>\n      <td>1731.57</td>\n      <td>2168.70</td>\n      <td>250.82</td>\n    </tr>\n    <tr>\n      <th>...</th>\n      <td>...</td>\n      <td>...</td>\n      <td>...</td>\n      <td>...</td>\n      <td>...</td>\n    </tr>\n    <tr>\n      <th>249</th>\n      <td>2019-03-19</td>\n      <td>332.06</td>\n      <td>2315.03</td>\n      <td>2828.16</td>\n      <td>332.06</td>\n    </tr>\n    <tr>\n      <th>250</th>\n      <td>2019-03-18</td>\n      <td>340.11</td>\n      <td>2374.76</td>\n      <td>2901.14</td>\n      <td>340.11</td>\n    </tr>\n    <tr>\n      <th>251</th>\n      <td>2019-03-15</td>\n      <td>336.45</td>\n      <td>2346.99</td>\n      <td>2867.17</td>\n      <td>336.45</td>\n    </tr>\n    <tr>\n      <th>252</th>\n      <td>2019-03-14</td>\n      <td>336.27</td>\n      <td>2346.24</td>\n      <td>2866.13</td>\n      <td>336.27</td>\n    </tr>\n    <tr>\n      <th>253</th>\n      <td>2019-03-13</td>\n      <td>336.02</td>\n      <td>2345.01</td>\n      <td>2862.97</td>\n      <td>336.02</td>\n    </tr>\n  </tbody>\n</table>\n<p>254 rows × 5 columns</p>\n</div>"
     },
     "metadata": {},
     "execution_count": 9
    }
   ],
   "source": [
    "indexdata"
   ]
  },
  {
   "cell_type": "code",
   "execution_count": 10,
   "metadata": {},
   "outputs": [],
   "source": [
    "for x in range(0,len(rebalance_list)-1):\n",
    "    asset_value = [x * initial_amount for x in allocation_weights]\n",
    "    \n",
    "    index_subset = indexdata[indexdata['date'] >= rebalance_list[0+x]][indexdata['date'] < rebalance_list[1+x]]\n",
    "    index_subset = index_subset.sort_values(by='date').reset_index(drop=True)\n",
    "\n",
    "    allocation = pd.DataFrame()\n",
    "\n",
    "    for i in range(0,len(allocation_weights)):\n",
    "        indexcode = index_subset.columns[i+1]\n",
    "        scaling_factor = asset_value[i] / index_subset[indexcode][0]\n",
    "        allocation[f'allocation {i}'] = index_subset[indexcode] * scaling_factor\n",
    "    \n",
    "    asset_projection.append(allocation)\n",
    "    \n",
    "    asset_value = allocation.iloc[len(allocation)-1].sum()"
   ]
  },
  {
   "cell_type": "code",
   "execution_count": 11,
   "metadata": {},
   "outputs": [],
   "source": [
    "asset_projection = pd.concat(asset_projection).reset_index(drop=True)"
   ]
  },
  {
   "cell_type": "code",
   "execution_count": 12,
   "metadata": {},
   "outputs": [],
   "source": [
    "asset_projection['output'] = asset_projection.sum(axis = 1)\n",
    "asset_projection['date'] = indexdata['date']"
   ]
  },
  {
   "cell_type": "code",
   "execution_count": null,
   "metadata": {},
   "outputs": [],
   "source": [
    "if benchmark != 'None':\n",
    "    scaling_factor = initial_amount / indexdata.sort_values(by='date').reset_index(drop=True)['benchmark'][0]\n",
    "    asset_projection['benchmark'] = indexdata.sort_values(by='date').reset_index(drop=True)['benchmark'] * scaling_factor"
   ]
  },
  {
   "cell_type": "code",
   "execution_count": 21,
   "metadata": {
    "scrolled": true
   },
   "outputs": [],
   "source": [
    "output_field = ['date','output']\n",
    "\n",
    "if benchmark != 'None':\n",
    "    output_field = output_field +['benchmark']\n",
    "\n",
    "output_json = asset_projection[output_field].to_json(orient='columns')"
   ]
  },
  {
   "cell_type": "code",
   "execution_count": 23,
   "metadata": {},
   "outputs": [],
   "source": [
    "input_json = asset_projection[['date','output']].to_json(orient='columns')"
   ]
  },
  {
   "cell_type": "code",
   "execution_count": 49,
   "metadata": {},
   "outputs": [],
   "source": [
    "#def calculate metrics(input_json):\n",
    "input_index = pd.read_json(input_json)\n",
    "start_end_ratio =  input_index['output'][len(input_index)-1] / input_index['output'][0]\n",
    "no_years =  input_index['date'][0] - input_index['date'][len(input_index)-1]\n",
    "no_years = (no_years.days / 365)\n",
    "CAGR = (start_end_ratio) ** (1/no_years) - 1"
   ]
  },
  {
   "cell_type": "code",
   "execution_count": 66,
   "metadata": {},
   "outputs": [],
   "source": [
    "meansubtracted_values = input_index['output'] - input_index['output'].mean()\n",
    "meansubtracted_squared_sum = (meansubtracted_values**2).sum()\n",
    "variance = meansubtracted_squared_sum / (len(input_index['output'])-1)\n",
    "stddev = variance ** (1/2)"
   ]
  }
 ],
 "metadata": {
  "kernelspec": {
   "display_name": "Python 3",
   "language": "python",
   "name": "python3"
  },
  "language_info": {
   "codemirror_mode": {
    "name": "ipython",
    "version": 3
   },
   "file_extension": ".py",
   "mimetype": "text/x-python",
   "name": "python",
   "nbconvert_exporter": "python",
   "pygments_lexer": "ipython3",
   "version": "3.7.7-final"
  }
 },
 "nbformat": 4,
 "nbformat_minor": 4
}