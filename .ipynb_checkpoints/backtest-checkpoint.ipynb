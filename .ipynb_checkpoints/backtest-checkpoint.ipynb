{
 "cells": [
  {
   "cell_type": "code",
   "execution_count": 1,
   "metadata": {},
   "outputs": [],
   "source": [
    "import requests\n",
    "import pandas as pd\n",
    "from datetime import datetime\n",
    "from dateutil.relativedelta import relativedelta\n",
    "import math"
   ]
  },
  {
   "cell_type": "code",
   "execution_count": 2,
   "metadata": {},
   "outputs": [],
   "source": [
    "# Define inputs\n",
    "json_request = {\n",
    "    \"codelist\": [\"ABAQ\",\"ABQI\",\"ABQX\"],\n",
    "    \"allocation_weights\": [0.3,0.4,0.3],\n",
    "    \"benchmark\": \"ABAQ\",\n",
    "    \"initial_amount\": 10000,\n",
    "    \"start_date\": \"2016-03-13\",\n",
    "    \"end_date\": \"2020-03-13\",\n",
    "    \"rebalance\": True,\n",
    "    \"rebalance_frequency\": \"Monthly\"\n",
    "}"
   ]
  },
  {
   "cell_type": "code",
   "execution_count": 3,
   "metadata": {},
   "outputs": [],
   "source": [
    "month_frequency = {\n",
    "    'Yearly': 12,\n",
    "    'Quarterly': 3,\n",
    "    'Monthly': 1\n",
    "}"
   ]
  },
  {
   "cell_type": "code",
   "execution_count": 4,
   "metadata": {},
   "outputs": [],
   "source": [
    "# Load any files needed\n",
    "with open('data/key.txt', 'r') as file:\n",
    "    api_key = file.read()"
   ]
  },
  {
   "cell_type": "code",
   "execution_count": 5,
   "metadata": {},
   "outputs": [],
   "source": [
    "allocation_weights = json_request['allocation_weights']\n",
    "initial_amount = json_request['initial_amount']\n",
    "start_date = json_request['start_date']\n",
    "end_date = json_request['end_date']\n",
    "codelist = json_request['codelist']\n",
    "benchmark = json_request['benchmark']\n",
    "\n",
    "rebalance = json_request['rebalance']\n",
    "rebalance_frequency = json_request['rebalance_frequency']"
   ]
  },
  {
   "cell_type": "code",
   "execution_count": 6,
   "metadata": {},
   "outputs": [],
   "source": [
    "# Pull data from quandl\n",
    "indexdata = pd.DataFrame()\n",
    "\n",
    "quandl_code = codelist\n",
    "if benchmark != 'None':\n",
    "    quandl_code = codelist + [benchmark]\n",
    "\n",
    "for x in range(0,len(quandl_code)):\n",
    "    quandl_request = (\n",
    "    'https://www.quandl.com/api/v3/datasets/NASDAQOMX/'\n",
    "    f'{quandl_code[x]}?start_date={start_date}&end_date={end_date}&api_key={api_key}'\n",
    "    )\n",
    "    \n",
    "    response = requests.get(quandl_request).json()\n",
    "    \n",
    "    response_df = pd.DataFrame(response['dataset']['data'])\n",
    "    response_df = response_df[[0,1]]\n",
    "    if x == len(quandl_code)-1:\n",
    "        response_df.columns = ['date','benchmark']\n",
    "    else:\n",
    "        response_df.columns = ['date',quandl_code[x]]\n",
    "    \n",
    "    if x == 0:\n",
    "        indexdata = indexdata.append(response_df)\n",
    "    else:\n",
    "        indexdata = pd.merge(indexdata,response_df)"
   ]
  },
  {
   "cell_type": "code",
   "execution_count": 7,
   "metadata": {},
   "outputs": [],
   "source": [
    "end_date = datetime.strptime(end_date,'%Y-%m-%d')\n",
    "start_date = datetime.strptime(start_date,'%Y-%m-%d')\n",
    "num_months = (end_date.year - start_date.year) * 12 + (end_date.month - start_date.month)\n",
    "if (end_date.day < start_date.day):\n",
    "    num_months = num_months - 1"
   ]
  },
  {
   "cell_type": "code",
   "execution_count": 8,
   "metadata": {},
   "outputs": [],
   "source": [
    "event_count = int(math.floor(num_months / month_frequency[rebalance_frequency]))\n",
    "\n",
    "rebalance_list =[start_date.strftime(\"%Y-%m-%d\")]\n",
    "rebalance_date = start_date\n",
    "for x in range(0,event_count):\n",
    "    rebalance_date = rebalance_date + relativedelta(months=+month_frequency[rebalance_frequency])\n",
    "    rebalance_list.append(rebalance_date.strftime(\"%Y-%m-%d\"))"
   ]
  },
  {
   "cell_type": "code",
   "execution_count": 9,
   "metadata": {},
   "outputs": [],
   "source": [
    "asset_projection = []\n",
    "\n",
    "asset_value = [x * initial_amount for x in allocation_weights]"
   ]
  },
  {
   "cell_type": "code",
   "execution_count": 10,
   "metadata": {},
   "outputs": [
    {
     "name": "stderr",
     "output_type": "stream",
     "text": [
      "c:\\users\\yeung\\appdata\\local\\programs\\python\\python37\\lib\\site-packages\\ipykernel_launcher.py:4: UserWarning: Boolean Series key will be reindexed to match DataFrame index.\n",
      "  after removing the cwd from sys.path.\n"
     ]
    }
   ],
   "source": [
    "for x in range(0,len(rebalance_list)-1):\n",
    "    asset_value = [x * initial_amount for x in allocation_weights]\n",
    "    \n",
    "    index_subset = indexdata[indexdata['date'] >= rebalance_list[0+x]][indexdata['date'] < rebalance_list[1+x]]\n",
    "    index_subset = index_subset.sort_values(by='date').reset_index(drop=True)\n",
    "\n",
    "    allocation = pd.DataFrame()\n",
    "\n",
    "    for i in range(0,len(allocation_weights)):\n",
    "        indexcode = index_subset.columns[i+1]\n",
    "        scaling_factor = asset_value[i] / index_subset[indexcode][0]\n",
    "        allocation[f'allocation {i}'] = index_subset[indexcode] * scaling_factor\n",
    "    \n",
    "    asset_projection.append(allocation)\n",
    "    \n",
    "    asset_value = allocation.iloc[len(allocation)-1].sum()"
   ]
  },
  {
   "cell_type": "code",
   "execution_count": 11,
   "metadata": {},
   "outputs": [],
   "source": [
    "asset_projection = pd.concat(asset_projection).reset_index(drop=True)"
   ]
  },
  {
   "cell_type": "code",
   "execution_count": 12,
   "metadata": {},
   "outputs": [],
   "source": [
    "asset_projection['output'] = asset_projection.sum(axis = 1)\n",
    "asset_projection['date'] = indexdata.sort_values(by='date').reset_index(drop=True)['date']"
   ]
  },
  {
   "cell_type": "code",
   "execution_count": 13,
   "metadata": {},
   "outputs": [],
   "source": [
    "if benchmark != 'None':\n",
    "    scaling_factor = initial_amount / indexdata.sort_values(by='date').reset_index(drop=True)['benchmark'][0]\n",
    "    asset_projection['benchmark'] = indexdata.sort_values(by='date').reset_index(drop=True)['benchmark'] * scaling_factor"
   ]
  },
  {
   "cell_type": "code",
   "execution_count": 14,
   "metadata": {
    "scrolled": true
   },
   "outputs": [],
   "source": [
    "output_field = ['date','output']\n",
    "\n",
    "if benchmark != 'None':\n",
    "    output_field = output_field +['benchmark']\n",
    "\n",
    "output_json = asset_projection[output_field].to_json(orient='columns')"
   ]
  },
  {
   "cell_type": "code",
   "execution_count": 26,
   "metadata": {},
   "outputs": [],
   "source": [
    "#def calculate metrics(input_json):\n",
    "input_index = pd.read_json(input_json)\n",
    "start_end_ratio =  input_index['output'][len(input_index)-1] / input_index['output'][0]\n",
    "no_years = input_index['date'][len(input_index)-1] - input_index['date'][0]\n",
    "no_years = (no_years.days / 365)\n",
    "CAGR = (start_end_ratio) ** (1/no_years) - 1"
   ]
  },
  {
   "cell_type": "code",
   "execution_count": 27,
   "metadata": {},
   "outputs": [],
   "source": [
    "meansubtracted_values = input_index['output'] - input_index['output'].mean()\n",
    "meansubtracted_squared_sum = (meansubtracted_values**2).sum()\n",
    "variance = meansubtracted_squared_sum / (len(input_index['output'])-1)\n",
    "stddev = variance ** (1/2)"
   ]
  },
  {
   "cell_type": "code",
   "execution_count": 37,
   "metadata": {},
   "outputs": [],
   "source": [
    "num_years = end_date.year - start_date.year + 1\n",
    "list_years = [start_date.year]\n",
    "for x in range(1,num_years):\n",
    "    new_year = start_date.year + x\n",
    "    list_years.append(new_year)"
   ]
  },
  {
   "cell_type": "code",
   "execution_count": 53,
   "metadata": {},
   "outputs": [],
   "source": [
    "annual_return_list = []\n",
    "for y in range(0,len(list_years)):\n",
    "    CurrentYearIndex = asset_projection[asset_projection['date'].str.contains(str(list_years[y]))].reset_index(drop = True)['output']\n",
    "    annual_return = (CurrentYearIndex[len(CurrentYearIndex)-1]  - CurrentYearIndex[0]) / CurrentYearIndex[0]\n",
    "    annual_return_list.append(annual_return)"
   ]
  },
  {
   "cell_type": "code",
   "execution_count": 56,
   "metadata": {},
   "outputs": [],
   "source": [
    "anuualreturns_df = pd.DataFrame({\n",
    "    'year':list_years,\n",
    "    'annual_return': annual_return_list\n",
    "})"
   ]
  },
  {
   "cell_type": "code",
   "execution_count": 70,
   "metadata": {},
   "outputs": [],
   "source": [
    "short_asset_projection = asset_projection[['date','output']]\n",
    "previous_max = [] \n",
    "for x in range(0,len(short_asset_projection)):\n",
    "    previous_max.append(max(short_asset_projection[short_asset_projection['date'] <= short_asset_projection['date'][x]]['output']))"
   ]
  },
  {
   "cell_type": "code",
   "execution_count": 72,
   "metadata": {},
   "outputs": [],
   "source": [
    "asset_projection['previous_max'] = previous_max"
   ]
  },
  {
   "cell_type": "code",
   "execution_count": 73,
   "metadata": {},
   "outputs": [],
   "source": [
    "asset_projection['drawdown'] = asset_projection['output'] - asset_projection['previous_max']\n",
    "asset_projection['drawdown_pct'] = asset_projection['drawdown'] / asset_projection['previous_max']"
   ]
  }
 ],
 "metadata": {
  "kernelspec": {
   "display_name": "Python 3",
   "language": "python",
   "name": "python3"
  },
  "language_info": {
   "codemirror_mode": {
    "name": "ipython",
    "version": 3
   },
   "file_extension": ".py",
   "mimetype": "text/x-python",
   "name": "python",
   "nbconvert_exporter": "python",
   "pygments_lexer": "ipython3",
   "version": "3.7.7"
  }
 },
 "nbformat": 4,
 "nbformat_minor": 4
}
